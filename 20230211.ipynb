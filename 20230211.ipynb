{
  "nbformat": 4,
  "nbformat_minor": 0,
  "metadata": {
    "colab": {
      "provenance": [],
      "authorship_tag": "ABX9TyODdZgQM0SdQLsURCFjvoND",
      "include_colab_link": true
    },
    "kernelspec": {
      "name": "python3",
      "display_name": "Python 3"
    },
    "language_info": {
      "name": "python"
    }
  },
  "cells": [
    {
      "cell_type": "markdown",
      "metadata": {
        "id": "view-in-github",
        "colab_type": "text"
      },
      "source": [
        "<a href=\"https://colab.research.google.com/github/zoobe125/20230205-Python/blob/main/20230211.ipynb\" target=\"_parent\"><img src=\"https://colab.research.google.com/assets/colab-badge.svg\" alt=\"Open In Colab\"/></a>"
      ]
    },
    {
      "cell_type": "markdown",
      "source": [
        "# 20230211筆記"
      ],
      "metadata": {
        "id": "BqQGwWN_MevD"
      }
    },
    {
      "cell_type": "markdown",
      "source": [
        "# 基本資料型態\n",
        "\n",
        "* int （整數)\n",
        "* float （浮點數）\n",
        "* bool （布林變數）\n",
        "* str (字串：文字訊息）\n",
        "\n",
        "使用'type(變數)'可以檢查變數裡面的資料型態"
      ],
      "metadata": {
        "id": "1qtxKkSOUIOP"
      }
    },
    {
      "cell_type": "markdown",
      "source": [
        "## 整數除法（//)"
      ],
      "metadata": {
        "id": "BJHT8PO_U4Cz"
      }
    },
    {
      "cell_type": "code",
      "execution_count": null,
      "metadata": {
        "id": "20F9SaXAMV0v"
      },
      "outputs": [],
      "source": [
        "x = 1"
      ]
    },
    {
      "cell_type": "code",
      "source": [
        "x"
      ],
      "metadata": {
        "colab": {
          "base_uri": "https://localhost:8080/"
        },
        "id": "mXRG2B6aV7rB",
        "outputId": "6c88572b-5e2b-4208-c7c9-f510919dc013"
      },
      "execution_count": null,
      "outputs": [
        {
          "output_type": "execute_result",
          "data": {
            "text/plain": [
              "1"
            ]
          },
          "metadata": {},
          "execution_count": 7
        }
      ]
    },
    {
      "cell_type": "code",
      "source": [
        "type(x)"
      ],
      "metadata": {
        "colab": {
          "base_uri": "https://localhost:8080/"
        },
        "id": "rYWWg1EgWOzX",
        "outputId": "e08d56c3-676d-41fd-a8fb-82aa19da05d8"
      },
      "execution_count": null,
      "outputs": [
        {
          "output_type": "execute_result",
          "data": {
            "text/plain": [
              "int"
            ]
          },
          "metadata": {},
          "execution_count": 8
        }
      ]
    },
    {
      "cell_type": "code",
      "source": [
        "y = 4/2"
      ],
      "metadata": {
        "id": "W5uvRJ45WS2w"
      },
      "execution_count": null,
      "outputs": []
    },
    {
      "cell_type": "code",
      "source": [
        "y"
      ],
      "metadata": {
        "colab": {
          "base_uri": "https://localhost:8080/"
        },
        "id": "ssWq1EqhWVi5",
        "outputId": "1871ad16-38c2-466c-b9ad-67835a17cec1"
      },
      "execution_count": null,
      "outputs": [
        {
          "output_type": "execute_result",
          "data": {
            "text/plain": [
              "2.0"
            ]
          },
          "metadata": {},
          "execution_count": 13
        }
      ]
    },
    {
      "cell_type": "code",
      "source": [
        "z = 4//2"
      ],
      "metadata": {
        "id": "rhl5w624WkSF"
      },
      "execution_count": null,
      "outputs": []
    },
    {
      "cell_type": "code",
      "source": [
        "type(z)"
      ],
      "metadata": {
        "id": "VCPIrqDuWmmK",
        "outputId": "5bfb7532-3c81-4c98-d687-c56bd7cbe2bd",
        "colab": {
          "base_uri": "https://localhost:8080/"
        }
      },
      "execution_count": null,
      "outputs": [
        {
          "output_type": "execute_result",
          "data": {
            "text/plain": [
              "int"
            ]
          },
          "metadata": {},
          "execution_count": 15
        }
      ]
    },
    {
      "cell_type": "code",
      "source": [
        "def foo(name):\n",
        "  print(\"Hello\", name)"
      ],
      "metadata": {
        "id": "57ceJC3xROOr"
      },
      "execution_count": null,
      "outputs": []
    },
    {
      "cell_type": "markdown",
      "source": [
        "## 次方(**)"
      ],
      "metadata": {
        "id": "Flbe1UslXIm-"
      }
    },
    {
      "cell_type": "code",
      "source": [
        "2**2"
      ],
      "metadata": {
        "colab": {
          "base_uri": "https://localhost:8080/"
        },
        "id": "OYEMD6-_XIJB",
        "outputId": "83a29e30-07bd-4953-a308-950b6c8c9347"
      },
      "execution_count": 17,
      "outputs": [
        {
          "output_type": "execute_result",
          "data": {
            "text/plain": [
              "4"
            ]
          },
          "metadata": {},
          "execution_count": 17
        }
      ]
    },
    {
      "cell_type": "code",
      "source": [
        "2**4"
      ],
      "metadata": {
        "colab": {
          "base_uri": "https://localhost:8080/"
        },
        "id": "i9S1x5CzXUGA",
        "outputId": "8d4b99d1-048d-4ec8-a937-c85623b33e43"
      },
      "execution_count": 18,
      "outputs": [
        {
          "output_type": "execute_result",
          "data": {
            "text/plain": [
              "16"
            ]
          },
          "metadata": {},
          "execution_count": 18
        }
      ]
    },
    {
      "cell_type": "markdown",
      "source": [
        "## 什麼是Bool?\n",
        "###只有True/False的結果\n",
        "\n"
      ],
      "metadata": {
        "id": "oQ7fZj2HXg32"
      }
    },
    {
      "cell_type": "code",
      "source": [
        "3>2"
      ],
      "metadata": {
        "colab": {
          "base_uri": "https://localhost:8080/"
        },
        "id": "aZlBhfqkXosQ",
        "outputId": "ebe13ee9-fe13-40f1-f567-8c6ee5c65468"
      },
      "execution_count": 19,
      "outputs": [
        {
          "output_type": "execute_result",
          "data": {
            "text/plain": [
              "True"
            ]
          },
          "metadata": {},
          "execution_count": 19
        }
      ]
    },
    {
      "cell_type": "code",
      "source": [
        "True + True"
      ],
      "metadata": {
        "colab": {
          "base_uri": "https://localhost:8080/"
        },
        "id": "rXY3ky9iYC7a",
        "outputId": "a4a3120d-8369-4688-f11b-05f445e7fb14"
      },
      "execution_count": 21,
      "outputs": [
        {
          "output_type": "execute_result",
          "data": {
            "text/plain": [
              "2"
            ]
          },
          "metadata": {},
          "execution_count": 21
        }
      ]
    },
    {
      "cell_type": "code",
      "source": [
        "True + False"
      ],
      "metadata": {
        "colab": {
          "base_uri": "https://localhost:8080/"
        },
        "id": "LjWj2nMkYLGM",
        "outputId": "83d4173f-c603-476f-ee52-eff92a49b212"
      },
      "execution_count": 22,
      "outputs": [
        {
          "output_type": "execute_result",
          "data": {
            "text/plain": [
              "1"
            ]
          },
          "metadata": {},
          "execution_count": 22
        }
      ]
    },
    {
      "cell_type": "code",
      "source": [
        "#'=='比較兩個變數內的值有沒有相等\n",
        "x == z"
      ],
      "metadata": {
        "colab": {
          "base_uri": "https://localhost:8080/"
        },
        "id": "LkemZetKYK54",
        "outputId": "1f64b128-cd42-40ae-b3c1-ebbfcf29005e"
      },
      "execution_count": 24,
      "outputs": [
        {
          "output_type": "execute_result",
          "data": {
            "text/plain": [
              "False"
            ]
          },
          "metadata": {},
          "execution_count": 24
        }
      ]
    },
    {
      "cell_type": "markdown",
      "source": [
        "## 關於字串(\"\")或('')"
      ],
      "metadata": {
        "id": "j7AWIyvpZ4j3"
      }
    },
    {
      "cell_type": "code",
      "source": [
        "w = \"dog\""
      ],
      "metadata": {
        "id": "MZ7tlH3fZ7zd"
      },
      "execution_count": null,
      "outputs": []
    },
    {
      "cell_type": "code",
      "source": [
        "u = \"It's my dog\""
      ],
      "metadata": {
        "id": "SOUAjaMHYKbO"
      },
      "execution_count": 28,
      "outputs": []
    },
    {
      "cell_type": "code",
      "source": [
        "#使用跳脫字元（Escape Charater)\n",
        "v = 'It\\'s my dog'"
      ],
      "metadata": {
        "id": "-lKWJLHUaH_Y"
      },
      "execution_count": 29,
      "outputs": []
    },
    {
      "cell_type": "markdown",
      "source": [
        "## 字串的加法（+）跟乘法（*）"
      ],
      "metadata": {
        "id": "mhqofPEdfXL6"
      }
    },
    {
      "cell_type": "code",
      "source": [
        "\"abc\" + \"3\""
      ],
      "metadata": {
        "colab": {
          "base_uri": "https://localhost:8080/",
          "height": 35
        },
        "id": "wxmSSX8-fjnB",
        "outputId": "b5532ddf-ae6b-4182-a6c5-24b4954dcb10"
      },
      "execution_count": 31,
      "outputs": [
        {
          "output_type": "execute_result",
          "data": {
            "text/plain": [
              "'abc3'"
            ],
            "application/vnd.google.colaboratory.intrinsic+json": {
              "type": "string"
            }
          },
          "metadata": {},
          "execution_count": 31
        }
      ]
    },
    {
      "cell_type": "code",
      "source": [
        "\"abc\" * 3"
      ],
      "metadata": {
        "colab": {
          "base_uri": "https://localhost:8080/",
          "height": 35
        },
        "id": "OWv_s7PNfsmw",
        "outputId": "498cf641-0794-44b7-e907-da8b67307ad2"
      },
      "execution_count": 32,
      "outputs": [
        {
          "output_type": "execute_result",
          "data": {
            "text/plain": [
              "'abcabcabc'"
            ],
            "application/vnd.google.colaboratory.intrinsic+json": {
              "type": "string"
            }
          },
          "metadata": {},
          "execution_count": 32
        }
      ]
    },
    {
      "cell_type": "markdown",
      "source": [
        "## 練習使用字串畫出底下的金字塔\n",
        "     *\n",
        "    ***\n",
        "   *****\n",
        "  *******\n",
        " *********"
      ],
      "metadata": {
        "id": "we25RXgIfzvX"
      }
    },
    {
      "cell_type": "code",
      "source": [
        "for i in range (5):\n",
        "  print(i)"
      ],
      "metadata": {
        "colab": {
          "base_uri": "https://localhost:8080/"
        },
        "id": "SXUkTyWIhDIL",
        "outputId": "ae0e4db1-ca29-4212-8e05-bc3c7781199d"
      },
      "execution_count": 39,
      "outputs": [
        {
          "output_type": "stream",
          "name": "stdout",
          "text": [
            "0\n",
            "1\n",
            "2\n",
            "3\n",
            "4\n"
          ]
        }
      ]
    },
    {
      "cell_type": "code",
      "source": [
        "for i in range (5):\n",
        "  print(2*i+1)"
      ],
      "metadata": {
        "colab": {
          "base_uri": "https://localhost:8080/"
        },
        "id": "8pxufwoZht97",
        "outputId": "e439ec0a-6cdd-4e13-c009-57ac4a61e1ed"
      },
      "execution_count": 43,
      "outputs": [
        {
          "output_type": "stream",
          "name": "stdout",
          "text": [
            "1\n",
            "3\n",
            "5\n",
            "7\n",
            "9\n"
          ]
        }
      ]
    },
    {
      "cell_type": "code",
      "source": [
        "for i in range (5):\n",
        "  print((2*i+1)*'*')"
      ],
      "metadata": {
        "colab": {
          "base_uri": "https://localhost:8080/"
        },
        "id": "BXPiJYD-h4G8",
        "outputId": "4f6ac3b6-5a4b-4355-cf17-cc3829ad6701"
      },
      "execution_count": 42,
      "outputs": [
        {
          "output_type": "stream",
          "name": "stdout",
          "text": [
            "*\n",
            "***\n",
            "*****\n",
            "*******\n",
            "*********\n"
          ]
        }
      ]
    },
    {
      "cell_type": "code",
      "source": [
        "for i in range (5):\n",
        "  print((5-i)*' '+(2*i+1)*'*')"
      ],
      "metadata": {
        "colab": {
          "base_uri": "https://localhost:8080/"
        },
        "id": "8l-lZMO9iUpj",
        "outputId": "92ce26e9-e99b-4495-86bc-29ec81a0cae8"
      },
      "execution_count": 51,
      "outputs": [
        {
          "output_type": "stream",
          "name": "stdout",
          "text": [
            "     *\n",
            "    ***\n",
            "   *****\n",
            "  *******\n",
            " *********\n"
          ]
        }
      ]
    },
    {
      "cell_type": "code",
      "source": [
        "for i in range (3):\n",
        "  print(\"程式區塊開始\")\n",
        "  print(i)\n",
        "  print(\"程式區塊結束\")"
      ],
      "metadata": {
        "colab": {
          "base_uri": "https://localhost:8080/"
        },
        "id": "YcYGQO3egtu-",
        "outputId": "b2ea55cb-221a-41c4-93a1-05ef5f1537be"
      },
      "execution_count": 36,
      "outputs": [
        {
          "output_type": "stream",
          "name": "stdout",
          "text": [
            "程式區塊開始\n",
            "0\n",
            "程式區塊結束\n",
            "程式區塊開始\n",
            "1\n",
            "程式區塊結束\n",
            "程式區塊開始\n",
            "2\n",
            "程式區塊結束\n"
          ]
        }
      ]
    },
    {
      "cell_type": "code",
      "source": [
        "for i in range (3):\n",
        "  print(\"程式區塊開始\")\n",
        "  print(i)\n",
        "print(\"程式區塊結束\")"
      ],
      "metadata": {
        "colab": {
          "base_uri": "https://localhost:8080/"
        },
        "id": "m-UsvSJRgSKb",
        "outputId": "8d426d6f-b7fa-486e-edd8-2ab5db6d7e70"
      },
      "execution_count": 37,
      "outputs": [
        {
          "output_type": "stream",
          "name": "stdout",
          "text": [
            "程式區塊開始\n",
            "0\n",
            "程式區塊開始\n",
            "1\n",
            "程式區塊開始\n",
            "2\n",
            "程式區塊結束\n"
          ]
        }
      ]
    }
  ]
}
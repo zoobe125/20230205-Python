{
  "nbformat": 4,
  "nbformat_minor": 0,
  "metadata": {
    "colab": {
      "provenance": [],
      "authorship_tag": "ABX9TyNrpW4n4CvoNe95qUTkS7Gm",
      "include_colab_link": true
    },
    "kernelspec": {
      "name": "python3",
      "display_name": "Python 3"
    },
    "language_info": {
      "name": "python"
    }
  },
  "cells": [
    {
      "cell_type": "markdown",
      "metadata": {
        "id": "view-in-github",
        "colab_type": "text"
      },
      "source": [
        "<a href=\"https://colab.research.google.com/github/zoobe125/20230205-Python/blob/main/20230304.ipynb\" target=\"_parent\"><img src=\"https://colab.research.google.com/assets/colab-badge.svg\" alt=\"Open In Colab\"/></a>"
      ]
    },
    {
      "cell_type": "markdown",
      "source": [
        "# **抓取網頁原始碼** - requests"
      ],
      "metadata": {
        "id": "qgrapgFJV1gq"
      }
    },
    {
      "cell_type": "code",
      "execution_count": 51,
      "metadata": {
        "id": "OknBNIcOUlZ-"
      },
      "outputs": [],
      "source": [
        "# 抓取資料\n",
        "import requests"
      ]
    },
    {
      "cell_type": "code",
      "source": [
        "url = \"https://victorgau.github.io/khpy_web_intro/html_only.html\""
      ],
      "metadata": {
        "id": "GoCbBydtUok5"
      },
      "execution_count": 3,
      "outputs": []
    },
    {
      "cell_type": "code",
      "source": [
        "r = requests.get(url)"
      ],
      "metadata": {
        "id": "8jrvdZGuU7QI"
      },
      "execution_count": 4,
      "outputs": []
    },
    {
      "cell_type": "code",
      "source": [
        "print(r.text)"
      ],
      "metadata": {
        "colab": {
          "base_uri": "https://localhost:8080/"
        },
        "id": "Wa9xzt2vVwqm",
        "outputId": "687dca92-e762-4bb5-fa0c-a496a70ffd88"
      },
      "execution_count": 5,
      "outputs": [
        {
          "output_type": "stream",
          "name": "stdout",
          "text": [
            "<!DOCTYPE html>\n",
            "<html>\n",
            "<head>\n",
            "    <title>HTML範例</title>\n",
            "</head>\n",
            "<body>\n",
            "\n",
            "<h1>哈囉！HTML！</h1>\n",
            "\n",
            "<img src=\"ninja.jpg\" />\n",
            "\n",
            "</body>\n",
            "</html>\n"
          ]
        }
      ]
    },
    {
      "cell_type": "markdown",
      "source": [
        "## 抓取Ajax網頁資料"
      ],
      "metadata": {
        "id": "iS_DuHD_V6nV"
      }
    },
    {
      "cell_type": "markdown",
      "source": [
        "### 從非Ajax的網頁上,可以直接看到資料"
      ],
      "metadata": {
        "id": "wub6SggmWvVy"
      }
    },
    {
      "cell_type": "code",
      "source": [
        "url = \"https://victorgau.github.io/khpy_web_intro/spy.html\""
      ],
      "metadata": {
        "id": "8a3RaxTTWGFP"
      },
      "execution_count": 6,
      "outputs": []
    },
    {
      "cell_type": "code",
      "source": [
        "r = requests.get(url)"
      ],
      "metadata": {
        "id": "NZ0v9mtEWLs5"
      },
      "execution_count": 7,
      "outputs": []
    },
    {
      "cell_type": "code",
      "source": [
        "r.request.headers"
      ],
      "metadata": {
        "colab": {
          "base_uri": "https://localhost:8080/"
        },
        "id": "tpF9_0dgbqz0",
        "outputId": "b6ae87ca-a467-46e7-bde9-6b7ba99ccc75"
      },
      "execution_count": 13,
      "outputs": [
        {
          "output_type": "execute_result",
          "data": {
            "text/plain": [
              "{'User-Agent': 'python-requests/2.25.1', 'Accept-Encoding': 'gzip, deflate', 'Accept': '*/*', 'Connection': 'keep-alive'}"
            ]
          },
          "metadata": {},
          "execution_count": 13
        }
      ]
    },
    {
      "cell_type": "code",
      "source": [
        "r.headers"
      ],
      "metadata": {
        "colab": {
          "base_uri": "https://localhost:8080/"
        },
        "id": "uYNL1kWmbvA8",
        "outputId": "56b953e2-bf08-41ad-8776-c6289a6e7f3d"
      },
      "execution_count": 14,
      "outputs": [
        {
          "output_type": "execute_result",
          "data": {
            "text/plain": [
              "{'Connection': 'keep-alive', 'Content-Length': '944', 'Server': 'GitHub.com', 'Content-Type': 'text/html; charset=utf-8', 'permissions-policy': 'interest-cohort=()', 'Last-Modified': 'Sat, 09 Oct 2021 21:20:24 GMT', 'Access-Control-Allow-Origin': '*', 'ETag': 'W/\"61620798-c24\"', 'expires': 'Sat, 04 Mar 2023 02:09:51 GMT', 'Cache-Control': 'max-age=600', 'Content-Encoding': 'gzip', 'x-proxy-cache': 'MISS', 'X-GitHub-Request-Id': 'B392:3527:1A00B2:222E09:6402A617', 'Accept-Ranges': 'bytes', 'Date': 'Sat, 04 Mar 2023 02:04:01 GMT', 'Via': '1.1 varnish', 'Age': '217', 'X-Served-By': 'cache-iad-kiad7000053-IAD', 'X-Cache': 'HIT', 'X-Cache-Hits': '1', 'X-Timer': 'S1677895442.820427,VS0,VE1', 'Vary': 'Accept-Encoding', 'X-Fastly-Request-ID': '2013d57dd09f1371b535806bd86ec221e2232d4d'}"
            ]
          },
          "metadata": {},
          "execution_count": 14
        }
      ]
    },
    {
      "cell_type": "code",
      "source": [
        "print(r.text)"
      ],
      "metadata": {
        "id": "0Fi0QDpVWUhE"
      },
      "execution_count": null,
      "outputs": []
    },
    {
      "cell_type": "markdown",
      "source": [
        "### 從非Ajax的網站,可能看不到資料"
      ],
      "metadata": {
        "id": "-MjHw-VXW9kW"
      }
    },
    {
      "cell_type": "code",
      "source": [
        "url = \"https://victorgau.github.io/khpy_web_intro/spy_ajax.html\""
      ],
      "metadata": {
        "id": "odOze6cPWZv1"
      },
      "execution_count": 9,
      "outputs": []
    },
    {
      "cell_type": "code",
      "source": [
        "r = requests.get(url)"
      ],
      "metadata": {
        "id": "W_SL72dnXFEO"
      },
      "execution_count": 10,
      "outputs": []
    },
    {
      "cell_type": "code",
      "source": [
        "print(r.text)"
      ],
      "metadata": {
        "colab": {
          "base_uri": "https://localhost:8080/"
        },
        "id": "V011xsurXJaD",
        "outputId": "595656e2-57bd-409b-9298-718c9f2df74d"
      },
      "execution_count": 12,
      "outputs": [
        {
          "output_type": "stream",
          "name": "stdout",
          "text": [
            "<!DOCTYPE html>\n",
            "<html>\n",
            "<head>\n",
            "    <!-- Required meta tags -->\n",
            "    <meta charset=\"utf-8\">\n",
            "    <meta name=\"viewport\" content=\"width=device-width, initial-scale=1, shrink-to-fit=no\">\n",
            "\n",
            "    <!-- Bootstrap CSS -->\n",
            "    <link rel=\"stylesheet\" href=\"https://maxcdn.bootstrapcdn.com/bootstrap/4.0.0/css/bootstrap.min.css\" integrity=\"sha384-Gn5384xqQ1aoWXA+058RXPxPg6fy4IWvTNh0E263XmFcJlSAwiGgFAW/dAiS6JXm\" crossorigin=\"anonymous\">\n",
            "    <link rel=\"stylesheet\" href=\"https://cdn.jsdelivr.net/npm/bootstrap-icons@1.5.0/font/bootstrap-icons.css\">\n",
            "    <title>HTML範例</title>\n",
            "</head>\n",
            "<body>\n",
            "  <div class=\"container\">\n",
            "    <h1>SPY股價</h1>\n",
            "  </div>\n",
            "    <div class=\"container\">\n",
            "<table border=\"1\" class=\"dataframe table table-striped\">\n",
            "  <thead>\n",
            "    <tr style=\"text-align: right;\">\n",
            "      <th></th>\n",
            "      <th>Open</th>\n",
            "      <th>High</th>\n",
            "      <th>Low</th>\n",
            "      <th>Close</th>\n",
            "      <th>Adj Close</th>\n",
            "      <th>Volume</th>\n",
            "    </tr>\n",
            "    <tr>\n",
            "      <th>Date</th>\n",
            "      <th></th>\n",
            "      <th></th>\n",
            "      <th></th>\n",
            "      <th></th>\n",
            "      <th></th>\n",
            "      <th></th>\n",
            "    </tr>\n",
            "  </thead>\n",
            "  <tbody>\n",
            "    <tr>\n",
            "      <th>2021-07-26</th>\n",
            "      <td>439.309998</td>\n",
            "      <td>441.029999</td>\n",
            "      <td>439.260010</td>\n",
            "      <td>441.019989</td>\n",
            "      <td>441.019989</td>\n",
            "      <td>43719200</td>\n",
            "    </tr>\n",
            "    <tr>\n",
            "      <th>2021-07-27</th>\n",
            "      <td>439.910004</td>\n",
            "      <td>439.940002</td>\n",
            "      <td>435.989990</td>\n",
            "      <td>439.010010</td>\n",
            "      <td>439.010010</td>\n",
            "      <td>67397100</td>\n",
            "    </tr>\n",
            "    <tr>\n",
            "      <th>2021-07-28</th>\n",
            "      <td>439.679993</td>\n",
            "      <td>440.299988</td>\n",
            "      <td>437.309998</td>\n",
            "      <td>438.829987</td>\n",
            "      <td>438.829987</td>\n",
            "      <td>52472400</td>\n",
            "    </tr>\n",
            "    <tr>\n",
            "      <th>2021-07-29</th>\n",
            "      <td>439.820007</td>\n",
            "      <td>441.799988</td>\n",
            "      <td>439.809998</td>\n",
            "      <td>440.649994</td>\n",
            "      <td>440.649994</td>\n",
            "      <td>47435300</td>\n",
            "    </tr>\n",
            "    <tr>\n",
            "      <th>2021-07-30</th>\n",
            "      <td>437.910004</td>\n",
            "      <td>440.059998</td>\n",
            "      <td>437.769989</td>\n",
            "      <td>438.510010</td>\n",
            "      <td>438.510010</td>\n",
            "      <td>68890600</td>\n",
            "    </tr>\n",
            "    <tr>\n",
            "      <th>2021-08-02</th>\n",
            "      <td>440.339996</td>\n",
            "      <td>440.929993</td>\n",
            "      <td>437.209991</td>\n",
            "      <td>437.589996</td>\n",
            "      <td>437.589996</td>\n",
            "      <td>58783300</td>\n",
            "    </tr>\n",
            "    <tr>\n",
            "      <th>2021-08-03</th>\n",
            "      <td>438.440002</td>\n",
            "      <td>441.279999</td>\n",
            "      <td>436.100006</td>\n",
            "      <td>441.149994</td>\n",
            "      <td>441.149994</td>\n",
            "      <td>58053900</td>\n",
            "    </tr>\n",
            "    <tr>\n",
            "      <th>2021-08-04</th>\n",
            "      <td>439.779999</td>\n",
            "      <td>441.119995</td>\n",
            "      <td>438.730011</td>\n",
            "      <td>438.980011</td>\n",
            "      <td>438.980011</td>\n",
            "      <td>46732200</td>\n",
            "    </tr>\n",
            "    <tr>\n",
            "      <th>2021-08-05</th>\n",
            "      <td>440.220001</td>\n",
            "      <td>441.850006</td>\n",
            "      <td>439.880005</td>\n",
            "      <td>441.760010</td>\n",
            "      <td>441.760010</td>\n",
            "      <td>38969700</td>\n",
            "    </tr>\n",
            "    <tr>\n",
            "      <th>2021-08-06</th>\n",
            "      <td>442.100006</td>\n",
            "      <td>442.940002</td>\n",
            "      <td>441.799988</td>\n",
            "      <td>442.489990</td>\n",
            "      <td>442.489990</td>\n",
            "      <td>46864100</td>\n",
            "    </tr>\n",
            "  </tbody>\n",
            "</table>\n",
            "\n",
            "</div>\n",
            "</body>\n",
            "</html>\n"
          ]
        }
      ]
    },
    {
      "cell_type": "code",
      "source": [
        "url = \"https://victorgau.github.io/khpy_web_intro/spy.json\""
      ],
      "metadata": {
        "id": "VpLGFeVNhoF7"
      },
      "execution_count": 30,
      "outputs": []
    },
    {
      "cell_type": "code",
      "source": [
        "data = requests.get(url).json()"
      ],
      "metadata": {
        "id": "DoVV0HHpXLG1"
      },
      "execution_count": 31,
      "outputs": []
    },
    {
      "cell_type": "code",
      "source": [
        "df = pd.read_json(url)"
      ],
      "metadata": {
        "id": "OtSULCj0iO_E"
      },
      "execution_count": 33,
      "outputs": []
    },
    {
      "cell_type": "code",
      "source": [
        "df.head()"
      ],
      "metadata": {
        "colab": {
          "base_uri": "https://localhost:8080/",
          "height": 206
        },
        "id": "O2BVgG7fiW8S",
        "outputId": "35f5ec79-7b9c-41f0-bdf4-bc479d8bf494"
      },
      "execution_count": 34,
      "outputs": [
        {
          "output_type": "execute_result",
          "data": {
            "text/plain": [
              "        Date        Open        High         Low       Close   Adj Close  \\\n",
              "0 2021-07-26  439.309998  441.029999  439.260010  441.019989  441.019989   \n",
              "1 2021-07-27  439.910004  439.940002  435.989990  439.010010  439.010010   \n",
              "2 2021-07-28  439.679993  440.299988  437.309998  438.829987  438.829987   \n",
              "3 2021-07-29  439.820007  441.799988  439.809998  440.649994  440.649994   \n",
              "4 2021-07-30  437.910004  440.059998  437.769989  438.510010  438.510010   \n",
              "\n",
              "     Volume  \n",
              "0  43719200  \n",
              "1  67397100  \n",
              "2  52472400  \n",
              "3  47435300  \n",
              "4  68890600  "
            ],
            "text/html": [
              "\n",
              "  <div id=\"df-5e15489b-837d-4caa-8105-502f2203c420\">\n",
              "    <div class=\"colab-df-container\">\n",
              "      <div>\n",
              "<style scoped>\n",
              "    .dataframe tbody tr th:only-of-type {\n",
              "        vertical-align: middle;\n",
              "    }\n",
              "\n",
              "    .dataframe tbody tr th {\n",
              "        vertical-align: top;\n",
              "    }\n",
              "\n",
              "    .dataframe thead th {\n",
              "        text-align: right;\n",
              "    }\n",
              "</style>\n",
              "<table border=\"1\" class=\"dataframe\">\n",
              "  <thead>\n",
              "    <tr style=\"text-align: right;\">\n",
              "      <th></th>\n",
              "      <th>Date</th>\n",
              "      <th>Open</th>\n",
              "      <th>High</th>\n",
              "      <th>Low</th>\n",
              "      <th>Close</th>\n",
              "      <th>Adj Close</th>\n",
              "      <th>Volume</th>\n",
              "    </tr>\n",
              "  </thead>\n",
              "  <tbody>\n",
              "    <tr>\n",
              "      <th>0</th>\n",
              "      <td>2021-07-26</td>\n",
              "      <td>439.309998</td>\n",
              "      <td>441.029999</td>\n",
              "      <td>439.260010</td>\n",
              "      <td>441.019989</td>\n",
              "      <td>441.019989</td>\n",
              "      <td>43719200</td>\n",
              "    </tr>\n",
              "    <tr>\n",
              "      <th>1</th>\n",
              "      <td>2021-07-27</td>\n",
              "      <td>439.910004</td>\n",
              "      <td>439.940002</td>\n",
              "      <td>435.989990</td>\n",
              "      <td>439.010010</td>\n",
              "      <td>439.010010</td>\n",
              "      <td>67397100</td>\n",
              "    </tr>\n",
              "    <tr>\n",
              "      <th>2</th>\n",
              "      <td>2021-07-28</td>\n",
              "      <td>439.679993</td>\n",
              "      <td>440.299988</td>\n",
              "      <td>437.309998</td>\n",
              "      <td>438.829987</td>\n",
              "      <td>438.829987</td>\n",
              "      <td>52472400</td>\n",
              "    </tr>\n",
              "    <tr>\n",
              "      <th>3</th>\n",
              "      <td>2021-07-29</td>\n",
              "      <td>439.820007</td>\n",
              "      <td>441.799988</td>\n",
              "      <td>439.809998</td>\n",
              "      <td>440.649994</td>\n",
              "      <td>440.649994</td>\n",
              "      <td>47435300</td>\n",
              "    </tr>\n",
              "    <tr>\n",
              "      <th>4</th>\n",
              "      <td>2021-07-30</td>\n",
              "      <td>437.910004</td>\n",
              "      <td>440.059998</td>\n",
              "      <td>437.769989</td>\n",
              "      <td>438.510010</td>\n",
              "      <td>438.510010</td>\n",
              "      <td>68890600</td>\n",
              "    </tr>\n",
              "  </tbody>\n",
              "</table>\n",
              "</div>\n",
              "      <button class=\"colab-df-convert\" onclick=\"convertToInteractive('df-5e15489b-837d-4caa-8105-502f2203c420')\"\n",
              "              title=\"Convert this dataframe to an interactive table.\"\n",
              "              style=\"display:none;\">\n",
              "        \n",
              "  <svg xmlns=\"http://www.w3.org/2000/svg\" height=\"24px\"viewBox=\"0 0 24 24\"\n",
              "       width=\"24px\">\n",
              "    <path d=\"M0 0h24v24H0V0z\" fill=\"none\"/>\n",
              "    <path d=\"M18.56 5.44l.94 2.06.94-2.06 2.06-.94-2.06-.94-.94-2.06-.94 2.06-2.06.94zm-11 1L8.5 8.5l.94-2.06 2.06-.94-2.06-.94L8.5 2.5l-.94 2.06-2.06.94zm10 10l.94 2.06.94-2.06 2.06-.94-2.06-.94-.94-2.06-.94 2.06-2.06.94z\"/><path d=\"M17.41 7.96l-1.37-1.37c-.4-.4-.92-.59-1.43-.59-.52 0-1.04.2-1.43.59L10.3 9.45l-7.72 7.72c-.78.78-.78 2.05 0 2.83L4 21.41c.39.39.9.59 1.41.59.51 0 1.02-.2 1.41-.59l7.78-7.78 2.81-2.81c.8-.78.8-2.07 0-2.86zM5.41 20L4 18.59l7.72-7.72 1.47 1.35L5.41 20z\"/>\n",
              "  </svg>\n",
              "      </button>\n",
              "      \n",
              "  <style>\n",
              "    .colab-df-container {\n",
              "      display:flex;\n",
              "      flex-wrap:wrap;\n",
              "      gap: 12px;\n",
              "    }\n",
              "\n",
              "    .colab-df-convert {\n",
              "      background-color: #E8F0FE;\n",
              "      border: none;\n",
              "      border-radius: 50%;\n",
              "      cursor: pointer;\n",
              "      display: none;\n",
              "      fill: #1967D2;\n",
              "      height: 32px;\n",
              "      padding: 0 0 0 0;\n",
              "      width: 32px;\n",
              "    }\n",
              "\n",
              "    .colab-df-convert:hover {\n",
              "      background-color: #E2EBFA;\n",
              "      box-shadow: 0px 1px 2px rgba(60, 64, 67, 0.3), 0px 1px 3px 1px rgba(60, 64, 67, 0.15);\n",
              "      fill: #174EA6;\n",
              "    }\n",
              "\n",
              "    [theme=dark] .colab-df-convert {\n",
              "      background-color: #3B4455;\n",
              "      fill: #D2E3FC;\n",
              "    }\n",
              "\n",
              "    [theme=dark] .colab-df-convert:hover {\n",
              "      background-color: #434B5C;\n",
              "      box-shadow: 0px 1px 3px 1px rgba(0, 0, 0, 0.15);\n",
              "      filter: drop-shadow(0px 1px 2px rgba(0, 0, 0, 0.3));\n",
              "      fill: #FFFFFF;\n",
              "    }\n",
              "  </style>\n",
              "\n",
              "      <script>\n",
              "        const buttonEl =\n",
              "          document.querySelector('#df-5e15489b-837d-4caa-8105-502f2203c420 button.colab-df-convert');\n",
              "        buttonEl.style.display =\n",
              "          google.colab.kernel.accessAllowed ? 'block' : 'none';\n",
              "\n",
              "        async function convertToInteractive(key) {\n",
              "          const element = document.querySelector('#df-5e15489b-837d-4caa-8105-502f2203c420');\n",
              "          const dataTable =\n",
              "            await google.colab.kernel.invokeFunction('convertToInteractive',\n",
              "                                                     [key], {});\n",
              "          if (!dataTable) return;\n",
              "\n",
              "          const docLinkHtml = 'Like what you see? Visit the ' +\n",
              "            '<a target=\"_blank\" href=https://colab.research.google.com/notebooks/data_table.ipynb>data table notebook</a>'\n",
              "            + ' to learn more about interactive tables.';\n",
              "          element.innerHTML = '';\n",
              "          dataTable['output_type'] = 'display_data';\n",
              "          await google.colab.output.renderOutput(dataTable, element);\n",
              "          const docLink = document.createElement('div');\n",
              "          docLink.innerHTML = docLinkHtml;\n",
              "          element.appendChild(docLink);\n",
              "        }\n",
              "      </script>\n",
              "    </div>\n",
              "  </div>\n",
              "  "
            ]
          },
          "metadata": {},
          "execution_count": 34
        }
      ]
    },
    {
      "cell_type": "markdown",
      "source": [
        "## 關於 pandas 的 read_html()"
      ],
      "metadata": {
        "id": "C-JOS8iLdVkN"
      }
    },
    {
      "cell_type": "code",
      "source": [
        "import pandas as pd"
      ],
      "metadata": {
        "id": "r_XKmqSqd9XT"
      },
      "execution_count": 21,
      "outputs": []
    },
    {
      "cell_type": "code",
      "source": [
        "url = \"https://en.wikipedia.org/wiki/List_of_S%26P_500_companies\""
      ],
      "metadata": {
        "id": "hz7yFwJxdZPV"
      },
      "execution_count": 26,
      "outputs": []
    },
    {
      "cell_type": "code",
      "source": [
        "dfs = pd.read_html(url)"
      ],
      "metadata": {
        "id": "1jSRByoEdZ6i"
      },
      "execution_count": 27,
      "outputs": []
    },
    {
      "cell_type": "code",
      "source": [
        "type(dfs)"
      ],
      "metadata": {
        "colab": {
          "base_uri": "https://localhost:8080/"
        },
        "id": "Qb9XDHoAdd7b",
        "outputId": "1084bd1c-c518-458c-a431-0db7a79316e0"
      },
      "execution_count": 28,
      "outputs": [
        {
          "output_type": "execute_result",
          "data": {
            "text/plain": [
              "list"
            ]
          },
          "metadata": {},
          "execution_count": 28
        }
      ]
    },
    {
      "cell_type": "code",
      "source": [
        "dfs[0]"
      ],
      "metadata": {
        "colab": {
          "base_uri": "https://localhost:8080/",
          "height": 423
        },
        "id": "gjk6bvtRhC19",
        "outputId": "02a00ec3-9261-4078-b8ca-8a14bd49012c"
      },
      "execution_count": 29,
      "outputs": [
        {
          "output_type": "execute_result",
          "data": {
            "text/plain": [
              "    Symbol              Security             GICS Sector  \\\n",
              "0      MMM                    3M             Industrials   \n",
              "1      AOS           A. O. Smith             Industrials   \n",
              "2      ABT                Abbott             Health Care   \n",
              "3     ABBV                AbbVie             Health Care   \n",
              "4      ACN             Accenture  Information Technology   \n",
              "..     ...                   ...                     ...   \n",
              "498    YUM           Yum! Brands  Consumer Discretionary   \n",
              "499   ZBRA    Zebra Technologies  Information Technology   \n",
              "500    ZBH         Zimmer Biomet             Health Care   \n",
              "501   ZION  Zions Bancorporation              Financials   \n",
              "502    ZTS                Zoetis             Health Care   \n",
              "\n",
              "                      GICS Sub-Industry    Headquarters Location  Date added  \\\n",
              "0              Industrial Conglomerates    Saint Paul, Minnesota  1957-03-04   \n",
              "1                     Building Products     Milwaukee, Wisconsin  2017-07-26   \n",
              "2                 Health Care Equipment  North Chicago, Illinois  1957-03-04   \n",
              "3                       Pharmaceuticals  North Chicago, Illinois  2012-12-31   \n",
              "4        IT Consulting & Other Services          Dublin, Ireland  2011-07-06   \n",
              "..                                  ...                      ...         ...   \n",
              "498                         Restaurants     Louisville, Kentucky  1997-10-06   \n",
              "499  Electronic Equipment & Instruments   Lincolnshire, Illinois  2019-12-23   \n",
              "500               Health Care Equipment          Warsaw, Indiana  2001-08-07   \n",
              "501                      Regional Banks     Salt Lake City, Utah  2001-06-22   \n",
              "502                     Pharmaceuticals   Parsippany, New Jersey  2013-06-21   \n",
              "\n",
              "         CIK      Founded  \n",
              "0      66740         1902  \n",
              "1      91142         1916  \n",
              "2       1800         1888  \n",
              "3    1551152  2013 (1888)  \n",
              "4    1467373         1989  \n",
              "..       ...          ...  \n",
              "498  1041061         1997  \n",
              "499   877212         1969  \n",
              "500  1136869         1927  \n",
              "501   109380         1873  \n",
              "502  1555280         1952  \n",
              "\n",
              "[503 rows x 8 columns]"
            ],
            "text/html": [
              "\n",
              "  <div id=\"df-e677e7c0-006e-4710-802d-937e684b18f2\">\n",
              "    <div class=\"colab-df-container\">\n",
              "      <div>\n",
              "<style scoped>\n",
              "    .dataframe tbody tr th:only-of-type {\n",
              "        vertical-align: middle;\n",
              "    }\n",
              "\n",
              "    .dataframe tbody tr th {\n",
              "        vertical-align: top;\n",
              "    }\n",
              "\n",
              "    .dataframe thead th {\n",
              "        text-align: right;\n",
              "    }\n",
              "</style>\n",
              "<table border=\"1\" class=\"dataframe\">\n",
              "  <thead>\n",
              "    <tr style=\"text-align: right;\">\n",
              "      <th></th>\n",
              "      <th>Symbol</th>\n",
              "      <th>Security</th>\n",
              "      <th>GICS Sector</th>\n",
              "      <th>GICS Sub-Industry</th>\n",
              "      <th>Headquarters Location</th>\n",
              "      <th>Date added</th>\n",
              "      <th>CIK</th>\n",
              "      <th>Founded</th>\n",
              "    </tr>\n",
              "  </thead>\n",
              "  <tbody>\n",
              "    <tr>\n",
              "      <th>0</th>\n",
              "      <td>MMM</td>\n",
              "      <td>3M</td>\n",
              "      <td>Industrials</td>\n",
              "      <td>Industrial Conglomerates</td>\n",
              "      <td>Saint Paul, Minnesota</td>\n",
              "      <td>1957-03-04</td>\n",
              "      <td>66740</td>\n",
              "      <td>1902</td>\n",
              "    </tr>\n",
              "    <tr>\n",
              "      <th>1</th>\n",
              "      <td>AOS</td>\n",
              "      <td>A. O. Smith</td>\n",
              "      <td>Industrials</td>\n",
              "      <td>Building Products</td>\n",
              "      <td>Milwaukee, Wisconsin</td>\n",
              "      <td>2017-07-26</td>\n",
              "      <td>91142</td>\n",
              "      <td>1916</td>\n",
              "    </tr>\n",
              "    <tr>\n",
              "      <th>2</th>\n",
              "      <td>ABT</td>\n",
              "      <td>Abbott</td>\n",
              "      <td>Health Care</td>\n",
              "      <td>Health Care Equipment</td>\n",
              "      <td>North Chicago, Illinois</td>\n",
              "      <td>1957-03-04</td>\n",
              "      <td>1800</td>\n",
              "      <td>1888</td>\n",
              "    </tr>\n",
              "    <tr>\n",
              "      <th>3</th>\n",
              "      <td>ABBV</td>\n",
              "      <td>AbbVie</td>\n",
              "      <td>Health Care</td>\n",
              "      <td>Pharmaceuticals</td>\n",
              "      <td>North Chicago, Illinois</td>\n",
              "      <td>2012-12-31</td>\n",
              "      <td>1551152</td>\n",
              "      <td>2013 (1888)</td>\n",
              "    </tr>\n",
              "    <tr>\n",
              "      <th>4</th>\n",
              "      <td>ACN</td>\n",
              "      <td>Accenture</td>\n",
              "      <td>Information Technology</td>\n",
              "      <td>IT Consulting &amp; Other Services</td>\n",
              "      <td>Dublin, Ireland</td>\n",
              "      <td>2011-07-06</td>\n",
              "      <td>1467373</td>\n",
              "      <td>1989</td>\n",
              "    </tr>\n",
              "    <tr>\n",
              "      <th>...</th>\n",
              "      <td>...</td>\n",
              "      <td>...</td>\n",
              "      <td>...</td>\n",
              "      <td>...</td>\n",
              "      <td>...</td>\n",
              "      <td>...</td>\n",
              "      <td>...</td>\n",
              "      <td>...</td>\n",
              "    </tr>\n",
              "    <tr>\n",
              "      <th>498</th>\n",
              "      <td>YUM</td>\n",
              "      <td>Yum! Brands</td>\n",
              "      <td>Consumer Discretionary</td>\n",
              "      <td>Restaurants</td>\n",
              "      <td>Louisville, Kentucky</td>\n",
              "      <td>1997-10-06</td>\n",
              "      <td>1041061</td>\n",
              "      <td>1997</td>\n",
              "    </tr>\n",
              "    <tr>\n",
              "      <th>499</th>\n",
              "      <td>ZBRA</td>\n",
              "      <td>Zebra Technologies</td>\n",
              "      <td>Information Technology</td>\n",
              "      <td>Electronic Equipment &amp; Instruments</td>\n",
              "      <td>Lincolnshire, Illinois</td>\n",
              "      <td>2019-12-23</td>\n",
              "      <td>877212</td>\n",
              "      <td>1969</td>\n",
              "    </tr>\n",
              "    <tr>\n",
              "      <th>500</th>\n",
              "      <td>ZBH</td>\n",
              "      <td>Zimmer Biomet</td>\n",
              "      <td>Health Care</td>\n",
              "      <td>Health Care Equipment</td>\n",
              "      <td>Warsaw, Indiana</td>\n",
              "      <td>2001-08-07</td>\n",
              "      <td>1136869</td>\n",
              "      <td>1927</td>\n",
              "    </tr>\n",
              "    <tr>\n",
              "      <th>501</th>\n",
              "      <td>ZION</td>\n",
              "      <td>Zions Bancorporation</td>\n",
              "      <td>Financials</td>\n",
              "      <td>Regional Banks</td>\n",
              "      <td>Salt Lake City, Utah</td>\n",
              "      <td>2001-06-22</td>\n",
              "      <td>109380</td>\n",
              "      <td>1873</td>\n",
              "    </tr>\n",
              "    <tr>\n",
              "      <th>502</th>\n",
              "      <td>ZTS</td>\n",
              "      <td>Zoetis</td>\n",
              "      <td>Health Care</td>\n",
              "      <td>Pharmaceuticals</td>\n",
              "      <td>Parsippany, New Jersey</td>\n",
              "      <td>2013-06-21</td>\n",
              "      <td>1555280</td>\n",
              "      <td>1952</td>\n",
              "    </tr>\n",
              "  </tbody>\n",
              "</table>\n",
              "<p>503 rows × 8 columns</p>\n",
              "</div>\n",
              "      <button class=\"colab-df-convert\" onclick=\"convertToInteractive('df-e677e7c0-006e-4710-802d-937e684b18f2')\"\n",
              "              title=\"Convert this dataframe to an interactive table.\"\n",
              "              style=\"display:none;\">\n",
              "        \n",
              "  <svg xmlns=\"http://www.w3.org/2000/svg\" height=\"24px\"viewBox=\"0 0 24 24\"\n",
              "       width=\"24px\">\n",
              "    <path d=\"M0 0h24v24H0V0z\" fill=\"none\"/>\n",
              "    <path d=\"M18.56 5.44l.94 2.06.94-2.06 2.06-.94-2.06-.94-.94-2.06-.94 2.06-2.06.94zm-11 1L8.5 8.5l.94-2.06 2.06-.94-2.06-.94L8.5 2.5l-.94 2.06-2.06.94zm10 10l.94 2.06.94-2.06 2.06-.94-2.06-.94-.94-2.06-.94 2.06-2.06.94z\"/><path d=\"M17.41 7.96l-1.37-1.37c-.4-.4-.92-.59-1.43-.59-.52 0-1.04.2-1.43.59L10.3 9.45l-7.72 7.72c-.78.78-.78 2.05 0 2.83L4 21.41c.39.39.9.59 1.41.59.51 0 1.02-.2 1.41-.59l7.78-7.78 2.81-2.81c.8-.78.8-2.07 0-2.86zM5.41 20L4 18.59l7.72-7.72 1.47 1.35L5.41 20z\"/>\n",
              "  </svg>\n",
              "      </button>\n",
              "      \n",
              "  <style>\n",
              "    .colab-df-container {\n",
              "      display:flex;\n",
              "      flex-wrap:wrap;\n",
              "      gap: 12px;\n",
              "    }\n",
              "\n",
              "    .colab-df-convert {\n",
              "      background-color: #E8F0FE;\n",
              "      border: none;\n",
              "      border-radius: 50%;\n",
              "      cursor: pointer;\n",
              "      display: none;\n",
              "      fill: #1967D2;\n",
              "      height: 32px;\n",
              "      padding: 0 0 0 0;\n",
              "      width: 32px;\n",
              "    }\n",
              "\n",
              "    .colab-df-convert:hover {\n",
              "      background-color: #E2EBFA;\n",
              "      box-shadow: 0px 1px 2px rgba(60, 64, 67, 0.3), 0px 1px 3px 1px rgba(60, 64, 67, 0.15);\n",
              "      fill: #174EA6;\n",
              "    }\n",
              "\n",
              "    [theme=dark] .colab-df-convert {\n",
              "      background-color: #3B4455;\n",
              "      fill: #D2E3FC;\n",
              "    }\n",
              "\n",
              "    [theme=dark] .colab-df-convert:hover {\n",
              "      background-color: #434B5C;\n",
              "      box-shadow: 0px 1px 3px 1px rgba(0, 0, 0, 0.15);\n",
              "      filter: drop-shadow(0px 1px 2px rgba(0, 0, 0, 0.3));\n",
              "      fill: #FFFFFF;\n",
              "    }\n",
              "  </style>\n",
              "\n",
              "      <script>\n",
              "        const buttonEl =\n",
              "          document.querySelector('#df-e677e7c0-006e-4710-802d-937e684b18f2 button.colab-df-convert');\n",
              "        buttonEl.style.display =\n",
              "          google.colab.kernel.accessAllowed ? 'block' : 'none';\n",
              "\n",
              "        async function convertToInteractive(key) {\n",
              "          const element = document.querySelector('#df-e677e7c0-006e-4710-802d-937e684b18f2');\n",
              "          const dataTable =\n",
              "            await google.colab.kernel.invokeFunction('convertToInteractive',\n",
              "                                                     [key], {});\n",
              "          if (!dataTable) return;\n",
              "\n",
              "          const docLinkHtml = 'Like what you see? Visit the ' +\n",
              "            '<a target=\"_blank\" href=https://colab.research.google.com/notebooks/data_table.ipynb>data table notebook</a>'\n",
              "            + ' to learn more about interactive tables.';\n",
              "          element.innerHTML = '';\n",
              "          dataTable['output_type'] = 'display_data';\n",
              "          await google.colab.output.renderOutput(dataTable, element);\n",
              "          const docLink = document.createElement('div');\n",
              "          docLink.innerHTML = docLinkHtml;\n",
              "          element.appendChild(docLink);\n",
              "        }\n",
              "      </script>\n",
              "    </div>\n",
              "  </div>\n",
              "  "
            ]
          },
          "metadata": {},
          "execution_count": 29
        }
      ]
    },
    {
      "cell_type": "markdown",
      "source": [
        "# **剖析網頁原始碼** - BeautifulSoup"
      ],
      "metadata": {
        "id": "nwSmbQhKjNIU"
      }
    },
    {
      "cell_type": "code",
      "source": [
        "# 拷貝網頁原始碼,使用 \"\"\" 貼上多行字串\n",
        "s = \"\"\"\n",
        "<!DOCTYPE html>\n",
        "<html>\n",
        "<head>\n",
        "    <!-- Required meta tags -->\n",
        "    <meta charset=\"utf-8\">\n",
        "    <meta name=\"viewport\" content=\"width=device-width, initial-scale=1, shrink-to-fit=no\">\n",
        "\n",
        "    <!-- Bootstrap CSS -->\n",
        "    <link rel=\"stylesheet\" href=\"https://maxcdn.bootstrapcdn.com/bootstrap/4.0.0/css/bootstrap.min.css\" integrity=\"sha384-Gn5384xqQ1aoWXA+058RXPxPg6fy4IWvTNh0E263XmFcJlSAwiGgFAW/dAiS6JXm\" crossorigin=\"anonymous\">\n",
        "    <link rel=\"stylesheet\" href=\"https://cdn.jsdelivr.net/npm/bootstrap-icons@1.5.0/font/bootstrap-icons.css\">\n",
        "    <title>範例索引</title>\n",
        "</head>\n",
        "<body>\n",
        "    <div class=\"container\">\n",
        "        <div class=\"row my-5\">\n",
        "            <div class=\"col\">\n",
        "                <h1 class=\"bg-warning p-3 rounded\">Web及爬蟲簡介課程範例</h1>\n",
        "\n",
        "                <ul class=\"list-group\">\n",
        "                    <li class=\"list-group-item\"><i class=\"bi bi-globe\"></i> <a href=\"html_only.html\">HTML 範例</a></li>\n",
        "                    <li class=\"list-group-item\"><i class=\"bi bi-globe\"></i> <a href=\"html_css.html\">HTML + CSS 範例</a></li>\n",
        "                    <li class=\"list-group-item\"><i class=\"bi bi-globe\"></i> <a href=\"html_css_javascript.html\">HTML + CSS + Javascript 範例</a></li>\n",
        "                    <li class=\"list-group-item\"><i class=\"bi bi-bug\"></i> <a href=\"example01.html\">example01.html (爬蟲抓取用範例)</a></li>\n",
        "                    <li class=\"list-group-item\"><i class=\"bi bi-bug\"></i> <a href=\"example02.html\">example02.html (爬蟲抓取用範例)</a></li>\n",
        "                    <li class=\"list-group-item\"><i class=\"bi bi-bug\"></i> <a href=\"example03.html\">example03.html (爬蟲抓取用範例)</a></li>\n",
        "                    <li class=\"list-group-item\"><i class=\"bi bi-bug\"></i> <a href=\"example04.html\">example04.html (爬蟲抓取用範例)</a></li>\n",
        "                    <li class=\"list-group-item\"><i class=\"bi bi-bug\"></i> <a href=\"example05.html\">example05.html (爬蟲抓取用範例)</a></li>\n",
        "                    <li class=\"list-group-item\"><i class=\"bi bi-bug\"></i> <a href=\"spy.html\">Classic HTML 範例 (爬蟲抓取用範例)</a></li>\n",
        "                    <li class=\"list-group-item\"><i class=\"bi bi-bug\"></i> <a href=\"spy_ajax.html\">Ajax 範例 (爬蟲抓取用範例)</a></li>\n",
        "                    <li class=\"list-group-item\"><i class=\"bi bi-bug\"></i> <a href=\"form_get.html\">HTTP GET 方法說明</a></li>\n",
        "                    <li class=\"list-group-item\"><i class=\"bi bi-bug\"></i> <a href=\"form_post.html\">HTTP POST 方法說明</a></li>\n",
        "                </ul>         \n",
        "            </div>\n",
        "    \n",
        "        </div>\n",
        "    </div>\n",
        "\n",
        "<!-- Optional JavaScript -->\n",
        "<!-- jQuery first, then Popper.js, then Bootstrap JS -->\n",
        "<script src=\"https://code.jquery.com/jquery-3.2.1.slim.min.js\" integrity=\"sha384-KJ3o2DKtIkvYIK3UENzmM7KCkRr/rE9/Qpg6aAZGJwFDMVNA/GpGFF93hXpG5KkN\" crossorigin=\"anonymous\"></script>\n",
        "<script src=\"https://cdnjs.cloudflare.com/ajax/libs/popper.js/1.12.9/umd/popper.min.js\" integrity=\"sha384-ApNbgh9B+Y1QKtv3Rn7W3mgPxhU9K/ScQsAP7hUibX39j7fakFPskvXusvfa0b4Q\" crossorigin=\"anonymous\"></script>\n",
        "<script src=\"https://maxcdn.bootstrapcdn.com/bootstrap/4.0.0/js/bootstrap.min.js\" integrity=\"sha384-JZR6Spejh4U02d8jOt6vLEHfe/JQGiRRSQQxSfFWpi1MquVdAyjUar5+76PVCmYl\" crossorigin=\"anonymous\"></script>\n",
        "\n",
        "</body>\n",
        "</html>\"\"\""
      ],
      "metadata": {
        "id": "klU7quDBjmsH"
      },
      "execution_count": 38,
      "outputs": []
    },
    {
      "cell_type": "code",
      "source": [
        "type(s)"
      ],
      "metadata": {
        "colab": {
          "base_uri": "https://localhost:8080/"
        },
        "id": "na9gNMfYkG0B",
        "outputId": "7e57e573-9e45-4b70-b797-774363442d23"
      },
      "execution_count": 27,
      "outputs": [
        {
          "output_type": "execute_result",
          "data": {
            "text/plain": [
              "str"
            ]
          },
          "metadata": {},
          "execution_count": 27
        }
      ]
    },
    {
      "cell_type": "markdown",
      "source": [
        "### 使用BeautifulSoup"
      ],
      "metadata": {
        "id": "30IFgplHmel3"
      }
    },
    {
      "cell_type": "code",
      "source": [
        "# 載入\n",
        "from bs4 import BeautifulSoup"
      ],
      "metadata": {
        "id": "wlz65lZlkHmS"
      },
      "execution_count": 67,
      "outputs": []
    },
    {
      "cell_type": "code",
      "source": [
        "soup = BeautifulSoup(s)"
      ],
      "metadata": {
        "id": "3Hg9W0hJkNGs"
      },
      "execution_count": 68,
      "outputs": []
    },
    {
      "cell_type": "code",
      "source": [
        "soup.h1"
      ],
      "metadata": {
        "colab": {
          "base_uri": "https://localhost:8080/"
        },
        "id": "trA93WBpkSVa",
        "outputId": "4e6c29e0-952a-42b7-9f9c-ae301c89d520"
      },
      "execution_count": 30,
      "outputs": [
        {
          "output_type": "execute_result",
          "data": {
            "text/plain": [
              "<h1 class=\"bg-warning p-3 rounded\">Web及爬蟲簡介課程範例</h1>"
            ]
          },
          "metadata": {},
          "execution_count": 30
        }
      ]
    },
    {
      "cell_type": "code",
      "source": [
        "soup.h1.text"
      ],
      "metadata": {
        "colab": {
          "base_uri": "https://localhost:8080/",
          "height": 35
        },
        "id": "jD7D9FhxkT6n",
        "outputId": "12c21c11-9598-4918-e1ee-277b0d1899ce"
      },
      "execution_count": 31,
      "outputs": [
        {
          "output_type": "execute_result",
          "data": {
            "text/plain": [
              "'Web及爬蟲簡介課程範例'"
            ],
            "application/vnd.google.colaboratory.intrinsic+json": {
              "type": "string"
            }
          },
          "metadata": {},
          "execution_count": 31
        }
      ]
    },
    {
      "cell_type": "code",
      "source": [
        "soup.li"
      ],
      "metadata": {
        "colab": {
          "base_uri": "https://localhost:8080/"
        },
        "id": "nejUURcPkVy8",
        "outputId": "3f732c16-f590-4c4c-d666-38343b3f784c"
      },
      "execution_count": 32,
      "outputs": [
        {
          "output_type": "execute_result",
          "data": {
            "text/plain": [
              "<li class=\"list-group-item\"><i class=\"bi bi-globe\"></i> <a href=\"html_only.html\">HTML 範例</a></li>"
            ]
          },
          "metadata": {},
          "execution_count": 32
        }
      ]
    },
    {
      "cell_type": "code",
      "source": [
        "soup.li.text"
      ],
      "metadata": {
        "colab": {
          "base_uri": "https://localhost:8080/",
          "height": 35
        },
        "id": "vxEhWIK5mGmy",
        "outputId": "fb2b7cdb-a148-44b9-c91c-78b3faf55767"
      },
      "execution_count": 33,
      "outputs": [
        {
          "output_type": "execute_result",
          "data": {
            "text/plain": [
              "' HTML 範例'"
            ],
            "application/vnd.google.colaboratory.intrinsic+json": {
              "type": "string"
            }
          },
          "metadata": {},
          "execution_count": 33
        }
      ]
    },
    {
      "cell_type": "code",
      "source": [
        "# 選取所有\"li\"的資料\n",
        "soup.select(\"li\")"
      ],
      "metadata": {
        "colab": {
          "base_uri": "https://localhost:8080/"
        },
        "id": "X23UfSOVkcED",
        "outputId": "786d97ce-267b-407f-9c11-776a37f21efb"
      },
      "execution_count": 34,
      "outputs": [
        {
          "output_type": "execute_result",
          "data": {
            "text/plain": [
              "[<li class=\"list-group-item\"><i class=\"bi bi-globe\"></i> <a href=\"html_only.html\">HTML 範例</a></li>,\n",
              " <li class=\"list-group-item\"><i class=\"bi bi-globe\"></i> <a href=\"html_css.html\">HTML + CSS 範例</a></li>,\n",
              " <li class=\"list-group-item\"><i class=\"bi bi-globe\"></i> <a href=\"html_css_javascript.html\">HTML + CSS + Javascript 範例</a></li>,\n",
              " <li class=\"list-group-item\"><i class=\"bi bi-bug\"></i> <a href=\"example01.html\">example01.html (爬蟲抓取用範例)</a></li>,\n",
              " <li class=\"list-group-item\"><i class=\"bi bi-bug\"></i> <a href=\"example02.html\">example02.html (爬蟲抓取用範例)</a></li>,\n",
              " <li class=\"list-group-item\"><i class=\"bi bi-bug\"></i> <a href=\"example03.html\">example03.html (爬蟲抓取用範例)</a></li>,\n",
              " <li class=\"list-group-item\"><i class=\"bi bi-bug\"></i> <a href=\"example04.html\">example04.html (爬蟲抓取用範例)</a></li>,\n",
              " <li class=\"list-group-item\"><i class=\"bi bi-bug\"></i> <a href=\"example05.html\">example05.html (爬蟲抓取用範例)</a></li>,\n",
              " <li class=\"list-group-item\"><i class=\"bi bi-bug\"></i> <a href=\"spy.html\">Classic HTML 範例 (爬蟲抓取用範例)</a></li>,\n",
              " <li class=\"list-group-item\"><i class=\"bi bi-bug\"></i> <a href=\"spy_ajax.html\">Ajax 範例 (爬蟲抓取用範例)</a></li>,\n",
              " <li class=\"list-group-item\"><i class=\"bi bi-bug\"></i> <a href=\"form_get.html\">HTTP GET 方法說明</a></li>,\n",
              " <li class=\"list-group-item\"><i class=\"bi bi-bug\"></i> <a href=\"form_post.html\">HTTP POST 方法說明</a></li>]"
            ]
          },
          "metadata": {},
          "execution_count": 34
        }
      ]
    },
    {
      "cell_type": "code",
      "source": [
        "# 抓取第一份資料\n",
        "soup.select(\"li\")[0]"
      ],
      "metadata": {
        "colab": {
          "base_uri": "https://localhost:8080/"
        },
        "id": "K53jzcKSpSAm",
        "outputId": "a1a062ed-a15e-4ee8-ce88-7da944cdb335"
      },
      "execution_count": 35,
      "outputs": [
        {
          "output_type": "execute_result",
          "data": {
            "text/plain": [
              "<li class=\"list-group-item\"><i class=\"bi bi-globe\"></i> <a href=\"html_only.html\">HTML 範例</a></li>"
            ]
          },
          "metadata": {},
          "execution_count": 35
        }
      ]
    },
    {
      "cell_type": "code",
      "source": [
        "# 第一份資料文字部分\n",
        "soup.select(\"li\")[1].text"
      ],
      "metadata": {
        "colab": {
          "base_uri": "https://localhost:8080/",
          "height": 35
        },
        "id": "QNSviK6BpT9u",
        "outputId": "69fabce0-830e-4c1b-fc63-7ea76c9bdcdf"
      },
      "execution_count": 36,
      "outputs": [
        {
          "output_type": "execute_result",
          "data": {
            "text/plain": [
              "' HTML + CSS 範例'"
            ],
            "application/vnd.google.colaboratory.intrinsic+json": {
              "type": "string"
            }
          },
          "metadata": {},
          "execution_count": 36
        }
      ]
    },
    {
      "cell_type": "code",
      "source": [
        "# 抓取所有\"li\"資料的文字部分 - X錯誤示範\n",
        "soup.select(\"li\").text"
      ],
      "metadata": {
        "colab": {
          "base_uri": "https://localhost:8080/",
          "height": 184
        },
        "id": "QPuImVh5pRlS",
        "outputId": "261c7c13-d680-47a1-dda5-03e2b2e5d8e8"
      },
      "execution_count": 66,
      "outputs": [
        {
          "output_type": "error",
          "ename": "AttributeError",
          "evalue": "ignored",
          "traceback": [
            "\u001b[0;31m---------------------------------------------------------------------------\u001b[0m",
            "\u001b[0;31mAttributeError\u001b[0m                            Traceback (most recent call last)",
            "\u001b[0;32m<ipython-input-66-39019fbe12d4>\u001b[0m in \u001b[0;36m<module>\u001b[0;34m\u001b[0m\n\u001b[1;32m      1\u001b[0m \u001b[0;31m# 抓取所有\"li\"資料的文字部分 - X錯誤示範\u001b[0m\u001b[0;34m\u001b[0m\u001b[0;34m\u001b[0m\u001b[0;34m\u001b[0m\u001b[0m\n\u001b[0;32m----> 2\u001b[0;31m \u001b[0msoup\u001b[0m\u001b[0;34m.\u001b[0m\u001b[0mselect\u001b[0m\u001b[0;34m(\u001b[0m\u001b[0;34m\"li\"\u001b[0m\u001b[0;34m)\u001b[0m\u001b[0;34m.\u001b[0m\u001b[0mtext\u001b[0m\u001b[0;34m\u001b[0m\u001b[0;34m\u001b[0m\u001b[0m\n\u001b[0m",
            "\u001b[0;31mAttributeError\u001b[0m: 'list' object has no attribute 'text'"
          ]
        }
      ]
    },
    {
      "cell_type": "code",
      "source": [
        "# 使用for迴圈抓取所有\"li\"資料的文字部分\n",
        "for x in soup.select(\"li\"):\n",
        "  print(x.text)"
      ],
      "metadata": {
        "id": "LmXVq0UgqD9p"
      },
      "execution_count": 65,
      "outputs": []
    },
    {
      "cell_type": "code",
      "source": [
        "# 標號\n",
        "for i, x in enumerate(soup.select(\"li\")):\n",
        "  print(i, \":\", x.text)"
      ],
      "metadata": {
        "id": "A7gWIrN0qOns"
      },
      "execution_count": 64,
      "outputs": []
    },
    {
      "cell_type": "code",
      "source": [
        "# 字串格式化\n",
        "for i, x in enumerate(soup.select(\"li\")):\n",
        "  print(f\"{i:2}: {x.text}\")"
      ],
      "metadata": {
        "id": "OrB2pmUlqRhU"
      },
      "execution_count": 63,
      "outputs": []
    },
    {
      "cell_type": "markdown",
      "source": [
        "# 關於字串格式化"
      ],
      "metadata": {
        "id": "m7l0qOW8qSGh"
      }
    },
    {
      "cell_type": "code",
      "source": [
        "x = 1\n",
        "y = 1.23\n",
        "z = True\n",
        "w = \"dog\""
      ],
      "metadata": {
        "id": "f7aYi2HQuQe4"
      },
      "execution_count": 39,
      "outputs": []
    },
    {
      "cell_type": "code",
      "source": [
        "print(x,y,z,w)"
      ],
      "metadata": {
        "colab": {
          "base_uri": "https://localhost:8080/"
        },
        "id": "wDdANOa0upIS",
        "outputId": "b10948e3-c3b9-4fec-abfa-117c7da29048"
      },
      "execution_count": 40,
      "outputs": [
        {
          "output_type": "stream",
          "name": "stdout",
          "text": [
            "1 1.23 True dog\n"
          ]
        }
      ]
    },
    {
      "cell_type": "code",
      "source": [
        "print(x,y,z,w,sep=\"\")"
      ],
      "metadata": {
        "colab": {
          "base_uri": "https://localhost:8080/"
        },
        "id": "wxQlJ5atur6e",
        "outputId": "75a4924a-0e4c-4ca6-c2ab-644486a643b2"
      },
      "execution_count": 41,
      "outputs": [
        {
          "output_type": "stream",
          "name": "stdout",
          "text": [
            "11.23Truedog\n"
          ]
        }
      ]
    },
    {
      "cell_type": "code",
      "source": [
        "print(x,y,z,w,sep=\"+\")"
      ],
      "metadata": {
        "colab": {
          "base_uri": "https://localhost:8080/"
        },
        "id": "aFNBliuVuyt1",
        "outputId": "e793f6b8-f7d1-47cd-c760-e86010e7834c"
      },
      "execution_count": 42,
      "outputs": [
        {
          "output_type": "stream",
          "name": "stdout",
          "text": [
            "1+1.23+True+dog\n"
          ]
        }
      ]
    },
    {
      "cell_type": "markdown",
      "source": [
        "## 字串格式化的方式\n",
        "* f-string(3.5+)\n",
        "* string.format"
      ],
      "metadata": {
        "id": "G3xTTH1eu8eH"
      }
    },
    {
      "cell_type": "markdown",
      "source": [
        "### f-string(3.5+)"
      ],
      "metadata": {
        "id": "rvRksQljvLP_"
      }
    },
    {
      "cell_type": "code",
      "source": [
        "# f-string\n",
        "print(f\"{x},{y},{z},{w}\")"
      ],
      "metadata": {
        "colab": {
          "base_uri": "https://localhost:8080/"
        },
        "id": "gX3jSix2uQLc",
        "outputId": "8ba9a5af-52c9-497e-c509-57244fec5221"
      },
      "execution_count": 43,
      "outputs": [
        {
          "output_type": "stream",
          "name": "stdout",
          "text": [
            "1,1.23,True,dog\n"
          ]
        }
      ]
    },
    {
      "cell_type": "code",
      "source": [
        "# 非f-string\n",
        "print({x},{y},{z},{w})"
      ],
      "metadata": {
        "colab": {
          "base_uri": "https://localhost:8080/"
        },
        "id": "_Xj3YQqcvkzS",
        "outputId": "44033474-694f-4c51-88ca-49f11494ff33"
      },
      "execution_count": 44,
      "outputs": [
        {
          "output_type": "stream",
          "name": "stdout",
          "text": [
            "{1} {1.23} {True} {'dog'}\n"
          ]
        }
      ]
    },
    {
      "cell_type": "code",
      "source": [
        "print(f\"{x}, {y}, {z}, {w}\")\n",
        "print(f\"{x:5}, {y}, {z}, {w}\")\n",
        "print(f\"{x:05}, {y}, {z}, {w}\")"
      ],
      "metadata": {
        "colab": {
          "base_uri": "https://localhost:8080/"
        },
        "id": "bYQZ3hHOvtcJ",
        "outputId": "89cbf6b2-5c19-4967-f1ac-c2721b1cf186"
      },
      "execution_count": 45,
      "outputs": [
        {
          "output_type": "stream",
          "name": "stdout",
          "text": [
            "1, 1.23, True, dog\n",
            "    1, 1.23, True, dog\n",
            "00001, 1.23, True, dog\n"
          ]
        }
      ]
    },
    {
      "cell_type": "code",
      "source": [
        "# 7.2f->浮點數\n",
        "print(f\"{x}, {y}, {z}, {w}\")\n",
        "print(f\"{x}, {y:7.2f}, {z}, {w}\")\n",
        "print(f\"{x}, {y:07.2f}, {z}, {w}\")"
      ],
      "metadata": {
        "colab": {
          "base_uri": "https://localhost:8080/"
        },
        "id": "v3zt144BxAxw",
        "outputId": "24f0efd4-6954-4adf-a291-ad804d11a484"
      },
      "execution_count": 46,
      "outputs": [
        {
          "output_type": "stream",
          "name": "stdout",
          "text": [
            "1, 1.23, True, dog\n",
            "1,    1.23, True, dog\n",
            "1, 0001.23, True, dog\n"
          ]
        }
      ]
    },
    {
      "cell_type": "code",
      "source": [
        "print(f\"{x}, {y}, {z}, {w}\")\n",
        "print(f\"{x}, {y}, {z}, {w:10}\")\n",
        "print(f\"{x}, {y}, {z}, {w:>10}\")"
      ],
      "metadata": {
        "colab": {
          "base_uri": "https://localhost:8080/"
        },
        "id": "InFfQmpkxDKO",
        "outputId": "3d5c3b07-17ed-45d9-87f4-cb16e676d0b4"
      },
      "execution_count": 47,
      "outputs": [
        {
          "output_type": "stream",
          "name": "stdout",
          "text": [
            "1, 1.23, True, dog\n",
            "1, 1.23, True, dog       \n",
            "1, 1.23, True,        dog\n"
          ]
        }
      ]
    },
    {
      "cell_type": "markdown",
      "source": [
        "### string.format"
      ],
      "metadata": {
        "id": "LUyLSwZixFce"
      }
    },
    {
      "cell_type": "code",
      "source": [
        "print(\"{},{},{},{},{}\".format(x,y,z,w))"
      ],
      "metadata": {
        "colab": {
          "base_uri": "https://localhost:8080/",
          "height": 167
        },
        "id": "L5aLx9eOxy6f",
        "outputId": "064175d4-b6f5-4e88-cf37-bcbaab4ef5f9"
      },
      "execution_count": 48,
      "outputs": [
        {
          "output_type": "error",
          "ename": "IndexError",
          "evalue": "ignored",
          "traceback": [
            "\u001b[0;31m---------------------------------------------------------------------------\u001b[0m",
            "\u001b[0;31mIndexError\u001b[0m                                Traceback (most recent call last)",
            "\u001b[0;32m<ipython-input-48-301f63fea0a7>\u001b[0m in \u001b[0;36m<module>\u001b[0;34m\u001b[0m\n\u001b[0;32m----> 1\u001b[0;31m \u001b[0mprint\u001b[0m\u001b[0;34m(\u001b[0m\u001b[0;34m\"{},{},{},{},{}\"\u001b[0m\u001b[0;34m.\u001b[0m\u001b[0mformat\u001b[0m\u001b[0;34m(\u001b[0m\u001b[0mx\u001b[0m\u001b[0;34m,\u001b[0m\u001b[0my\u001b[0m\u001b[0;34m,\u001b[0m\u001b[0mz\u001b[0m\u001b[0;34m,\u001b[0m\u001b[0mw\u001b[0m\u001b[0;34m)\u001b[0m\u001b[0;34m)\u001b[0m\u001b[0;34m\u001b[0m\u001b[0;34m\u001b[0m\u001b[0m\n\u001b[0m",
            "\u001b[0;31mIndexError\u001b[0m: Replacement index 4 out of range for positional args tuple"
          ]
        }
      ]
    },
    {
      "cell_type": "code",
      "source": [
        "print(\"{},{},{}\".format(x,y,z,w))"
      ],
      "metadata": {
        "id": "X5Vgxu2MxyVc"
      },
      "execution_count": null,
      "outputs": []
    },
    {
      "cell_type": "code",
      "source": [
        "print(\"{0},{1},{2},{1}\".format(x,y,z,w))"
      ],
      "metadata": {
        "colab": {
          "base_uri": "https://localhost:8080/"
        },
        "id": "2IYInB8GxyDP",
        "outputId": "e0bdc323-14c0-4ef8-8111-1b58f962a29a"
      },
      "execution_count": 50,
      "outputs": [
        {
          "output_type": "stream",
          "name": "stdout",
          "text": [
            "1,1.23,True,1.23\n"
          ]
        }
      ]
    },
    {
      "cell_type": "code",
      "source": [
        "print(\"{a}, {b}, {c}, {d}\".format(a=x, b=y, c=z, d=w))"
      ],
      "metadata": {
        "colab": {
          "base_uri": "https://localhost:8080/"
        },
        "id": "g1iiaywiySC_",
        "outputId": "1ed2abc7-e909-4c05-89a6-55b2a49886a6"
      },
      "execution_count": 51,
      "outputs": [
        {
          "output_type": "stream",
          "name": "stdout",
          "text": [
            "1, 1.23, True, dog\n"
          ]
        }
      ]
    },
    {
      "cell_type": "markdown",
      "source": [
        "#### 練習"
      ],
      "metadata": {
        "id": "VHgbiTLSDa2N"
      }
    },
    {
      "cell_type": "code",
      "source": [
        "u = 3.1415926"
      ],
      "metadata": {
        "id": "gaQx7vMKDgSB"
      },
      "execution_count": null,
      "outputs": []
    },
    {
      "cell_type": "code",
      "source": [
        "print(f\"{u:07.2f}\")"
      ],
      "metadata": {
        "id": "ZP6O_hkQDpuJ"
      },
      "execution_count": null,
      "outputs": []
    },
    {
      "cell_type": "code",
      "source": [
        "print(f\"{u:07.5f}\")"
      ],
      "metadata": {
        "id": "GIf7Aj2ODqId"
      },
      "execution_count": null,
      "outputs": []
    },
    {
      "cell_type": "code",
      "source": [
        "print(f\"{u:07.2}\")"
      ],
      "metadata": {
        "id": "NHA09UdXDsu3"
      },
      "execution_count": null,
      "outputs": []
    },
    {
      "cell_type": "code",
      "source": [
        "print(f\"{u:07.5}\")"
      ],
      "metadata": {
        "id": "A4_dApPTDvuO"
      },
      "execution_count": null,
      "outputs": []
    },
    {
      "cell_type": "markdown",
      "source": [
        "#### 練習\n",
        "\n",
        "https://stackoverflow.com/questions/53908134/what-is-20-format-string-meaning-in-python"
      ],
      "metadata": {
        "id": "H2HgpjsxDzzg"
      }
    },
    {
      "cell_type": "code",
      "source": [
        "popularity = [[\"Language\", 2017, 2012, 2007, 2002, 1997, 1992, 1987], \n",
        "          [\"Java\", 1, 2, 1, 1, 15, 0, 0],\n",
        "          [\"C\", 2, 1, 2, 2, 1, 1, 1],\n",
        "          [\"C++\", 3, 3, 3, 3, 2, 2, 5],\n",
        "          [\"C#\", 4, 4, 7, 13, 0, 0, 0],\n",
        "          [\"Python\", 5, 7, 6, 11, 27, 0, 0],\n",
        "          [\"Visual Basic .NET\", 6, 17, 0, 0, 0, 0, 0],\n",
        "          [\"PHP\", 7, 6, 4, 5, 0, 0, 0],\n",
        "          [\"JavaScript\", 8, 9, 8, 7, 23, 0, 0],\n",
        "          [\"Perl\", 9, 8, 5, 4, 4, 10, 0]]\n",
        "\n",
        "format_string = \"{:<20}  {:>4}  {:>4}  {:>4}  {:>4}  {:>4}  {:>4}  {:>4}\""
      ],
      "metadata": {
        "id": "TTySmTE1D2C3"
      },
      "execution_count": 52,
      "outputs": []
    },
    {
      "cell_type": "code",
      "source": [
        "# 文字格式化\n",
        "for i in popularity:\n",
        "  print(format_string.format(i[0], i[1], i[2], i[3], i[4], i[5], i[6], i[7]))"
      ],
      "metadata": {
        "colab": {
          "base_uri": "https://localhost:8080/"
        },
        "id": "fBxGUeJFEAas",
        "outputId": "db4142b5-6d0d-465a-b787-3e82c5577f85"
      },
      "execution_count": 53,
      "outputs": [
        {
          "output_type": "stream",
          "name": "stdout",
          "text": [
            "Language              2017  2012  2007  2002  1997  1992  1987\n",
            "Java                     1     2     1     1    15     0     0\n",
            "C                        2     1     2     2     1     1     1\n",
            "C++                      3     3     3     3     2     2     5\n",
            "C#                       4     4     7    13     0     0     0\n",
            "Python                   5     7     6    11    27     0     0\n",
            "Visual Basic .NET        6    17     0     0     0     0     0\n",
            "PHP                      7     6     4     5     0     0     0\n",
            "JavaScript               8     9     8     7    23     0     0\n",
            "Perl                     9     8     5     4     4    10     0\n"
          ]
        }
      ]
    },
    {
      "cell_type": "code",
      "source": [
        "# (上)文字格式化簡化\n",
        "for i in popularity:\n",
        "  print(format_string.format(*i))"
      ],
      "metadata": {
        "colab": {
          "base_uri": "https://localhost:8080/"
        },
        "id": "ZyOUXDp_EDGa",
        "outputId": "1c5b137a-cc7b-495c-da70-fba92aa1c1e0"
      },
      "execution_count": 54,
      "outputs": [
        {
          "output_type": "stream",
          "name": "stdout",
          "text": [
            "Language              2017  2012  2007  2002  1997  1992  1987\n",
            "Java                     1     2     1     1    15     0     0\n",
            "C                        2     1     2     2     1     1     1\n",
            "C++                      3     3     3     3     2     2     5\n",
            "C#                       4     4     7    13     0     0     0\n",
            "Python                   5     7     6    11    27     0     0\n",
            "Visual Basic .NET        6    17     0     0     0     0     0\n",
            "PHP                      7     6     4     5     0     0     0\n",
            "JavaScript               8     9     8     7    23     0     0\n",
            "Perl                     9     8     5     4     4    10     0\n"
          ]
        }
      ]
    },
    {
      "cell_type": "markdown",
      "source": [
        "## 使用 css selector 來剖析資料\n",
        "\n",
        "https://www.w3schools.com/cssref/css_selectors.php"
      ],
      "metadata": {
        "id": "_7W6XqqgEYZd"
      }
    },
    {
      "cell_type": "code",
      "source": [
        "url = \"https://www.w3schools.com/cssref/css_selectors.php\""
      ],
      "metadata": {
        "id": "oFXmaEcaG_qP"
      },
      "execution_count": 55,
      "outputs": []
    },
    {
      "cell_type": "code",
      "source": [
        "import requests"
      ],
      "metadata": {
        "id": "xHB2bhxeHvUG"
      },
      "execution_count": 56,
      "outputs": []
    },
    {
      "cell_type": "code",
      "source": [
        "r = requests.get(url)"
      ],
      "metadata": {
        "id": "5HCpPZu4HBZh"
      },
      "execution_count": 57,
      "outputs": []
    },
    {
      "cell_type": "code",
      "source": [
        "soup = BeautifulSoup(r.text)"
      ],
      "metadata": {
        "id": "am_s54NqHHFh"
      },
      "execution_count": 62,
      "outputs": []
    },
    {
      "cell_type": "code",
      "source": [
        "soup.select(\"li\")"
      ],
      "metadata": {
        "colab": {
          "base_uri": "https://localhost:8080/"
        },
        "id": "D9FJxhYtH3ld",
        "outputId": "3f2b019f-5a0e-4b47-c813-51471c78298a"
      },
      "execution_count": 71,
      "outputs": [
        {
          "output_type": "execute_result",
          "data": {
            "text/plain": [
              "[<li class=\"list-group-item\"><i class=\"bi bi-globe\"></i> <a href=\"html_only.html\">HTML 範例</a></li>,\n",
              " <li class=\"list-group-item\"><i class=\"bi bi-globe\"></i> <a href=\"html_css.html\">HTML + CSS 範例</a></li>,\n",
              " <li class=\"list-group-item\"><i class=\"bi bi-globe\"></i> <a href=\"html_css_javascript.html\">HTML + CSS + Javascript 範例</a></li>,\n",
              " <li class=\"list-group-item\"><i class=\"bi bi-bug\"></i> <a href=\"example01.html\">example01.html (爬蟲抓取用範例)</a></li>,\n",
              " <li class=\"list-group-item\"><i class=\"bi bi-bug\"></i> <a href=\"example02.html\">example02.html (爬蟲抓取用範例)</a></li>,\n",
              " <li class=\"list-group-item\"><i class=\"bi bi-bug\"></i> <a href=\"example03.html\">example03.html (爬蟲抓取用範例)</a></li>,\n",
              " <li class=\"list-group-item\"><i class=\"bi bi-bug\"></i> <a href=\"example04.html\">example04.html (爬蟲抓取用範例)</a></li>,\n",
              " <li class=\"list-group-item\"><i class=\"bi bi-bug\"></i> <a href=\"example05.html\">example05.html (爬蟲抓取用範例)</a></li>,\n",
              " <li class=\"list-group-item\"><i class=\"bi bi-bug\"></i> <a href=\"spy.html\">Classic HTML 範例 (爬蟲抓取用範例)</a></li>,\n",
              " <li class=\"list-group-item\"><i class=\"bi bi-bug\"></i> <a href=\"spy_ajax.html\">Ajax 範例 (爬蟲抓取用範例)</a></li>,\n",
              " <li class=\"list-group-item\"><i class=\"bi bi-bug\"></i> <a href=\"form_get.html\">HTTP GET 方法說明</a></li>,\n",
              " <li class=\"list-group-item\"><i class=\"bi bi-bug\"></i> <a href=\"form_post.html\">HTTP POST 方法說明</a></li>]"
            ]
          },
          "metadata": {},
          "execution_count": 71
        }
      ]
    },
    {
      "cell_type": "markdown",
      "source": [
        "## 抓取露天拍賣資料\n",
        "\n",
        "https://www.ruten.com.tw/category/0011"
      ],
      "metadata": {
        "id": "LkN2avnxI_S2"
      }
    },
    {
      "cell_type": "code",
      "source": [
        "url =\"https://www.ruten.com.tw/category/0011\""
      ],
      "metadata": {
        "id": "jVUbyPRbJB1g"
      },
      "execution_count": 72,
      "outputs": []
    },
    {
      "cell_type": "code",
      "source": [
        "# 偽裝瀏覽器\n",
        "headers = {'user-agent':'Mozilla/5.0 (Windows NT 10.0; Win64; x64) AppleWebKit/537.36 (KHTML, like Gecko) Chrome/110.0.0.0 Safari/537.36'}"
      ],
      "metadata": {
        "id": "n9b5h0vpJFmd"
      },
      "execution_count": 73,
      "outputs": []
    },
    {
      "cell_type": "code",
      "source": [
        "r = requests.get(url, headers=headers)"
      ],
      "metadata": {
        "id": "AwcD9Go4JOF3"
      },
      "execution_count": 74,
      "outputs": []
    },
    {
      "cell_type": "code",
      "source": [
        "'凸頭' in r.text"
      ],
      "metadata": {
        "colab": {
          "base_uri": "https://localhost:8080/"
        },
        "id": "e-zWv8cRJQT5",
        "outputId": "6f17572d-1c0c-45e2-faed-564100fe673a"
      },
      "execution_count": 77,
      "outputs": [
        {
          "output_type": "execute_result",
          "data": {
            "text/plain": [
              "False"
            ]
          },
          "metadata": {},
          "execution_count": 77
        }
      ]
    },
    {
      "cell_type": "code",
      "source": [
        "url = \"https://rapi.ruten.com.tw/api/items/v2/list?gno=21203073884581,21203073855084,22243606777400,22244608865692,22302937500980,22306987134735,22308073518043,22134699516389,22238403273488,21945822081428,22115680698839&level=detail\""
      ],
      "metadata": {
        "id": "H1Sh6jRIKmfM"
      },
      "execution_count": 78,
      "outputs": []
    },
    {
      "cell_type": "code",
      "source": [
        "data = requests.get(url, headers=headers).json()"
      ],
      "metadata": {
        "id": "8wOYpleLKpc3"
      },
      "execution_count": 79,
      "outputs": []
    },
    {
      "cell_type": "code",
      "source": [
        "data"
      ],
      "metadata": {
        "id": "aEYD4VzWKqCr"
      },
      "execution_count": null,
      "outputs": []
    },
    {
      "cell_type": "code",
      "source": [
        "type(data)"
      ],
      "metadata": {
        "colab": {
          "base_uri": "https://localhost:8080/"
        },
        "id": "UVHjIvIPLKHv",
        "outputId": "8810ec47-4ee1-44b1-ee11-3ea7fc788a14"
      },
      "execution_count": 81,
      "outputs": [
        {
          "output_type": "execute_result",
          "data": {
            "text/plain": [
              "dict"
            ]
          },
          "metadata": {},
          "execution_count": 81
        }
      ]
    },
    {
      "cell_type": "code",
      "source": [
        "data.keys()"
      ],
      "metadata": {
        "colab": {
          "base_uri": "https://localhost:8080/"
        },
        "id": "eh-NrG5-LLuK",
        "outputId": "6a3442ed-709c-45dc-da1a-e6d5454e7c44"
      },
      "execution_count": 82,
      "outputs": [
        {
          "output_type": "execute_result",
          "data": {
            "text/plain": [
              "dict_keys(['status', 'data'])"
            ]
          },
          "metadata": {},
          "execution_count": 82
        }
      ]
    },
    {
      "cell_type": "code",
      "source": [
        "type(data['data'])"
      ],
      "metadata": {
        "colab": {
          "base_uri": "https://localhost:8080/"
        },
        "id": "UIWFyvUjLRe5",
        "outputId": "79fbf623-7e63-49d3-a2df-f67cb2e27177"
      },
      "execution_count": 83,
      "outputs": [
        {
          "output_type": "execute_result",
          "data": {
            "text/plain": [
              "list"
            ]
          },
          "metadata": {},
          "execution_count": 83
        }
      ]
    },
    {
      "cell_type": "code",
      "source": [
        "data['data'][0].keys()"
      ],
      "metadata": {
        "colab": {
          "base_uri": "https://localhost:8080/"
        },
        "id": "pDQdFBvtLUZ3",
        "outputId": "525197ab-e035-4bba-80f6-3ca22e66320b"
      },
      "execution_count": 84,
      "outputs": [
        {
          "output_type": "execute_result",
          "data": {
            "text/plain": [
              "dict_keys(['id', 'class', 'name', 'num', 'images', 'currency', 'goods_price', 'goods_ori_price', 'goods_price_range', 'watch_num', 'sold_num', 'buyer_limit_num', 'stock_status', 'pre_order_ship_date', 'fast_ship', 'free_shipping', 'youtube_link', 'video_link', 'ncc_check_code', 'bsmi_code', 'goods_no', 'available', 'post_time', 'spec_type', 'deliver_way', 'mode', 'ship', 'platform', 'ctrl_rowid', 'user', 'user_credit', 'pay_way', 'title_style', 'selling_g_now_price', 'item_remaining_time', 'translation_type', 'translated_name', 'min_estimated_delivery_date', 'max_estimated_delivery_date', 'update_time', 'is_brand_seller', 'is_goods_from_oversea', 'location', 'condition', 'codition', 'accept_shiprule', 'user_class', 'close_no', 'description_url', 'spec_info', 'text2'])"
            ]
          },
          "metadata": {},
          "execution_count": 84
        }
      ]
    },
    {
      "cell_type": "code",
      "source": [
        "len(data['data'])"
      ],
      "metadata": {
        "colab": {
          "base_uri": "https://localhost:8080/"
        },
        "id": "XJqC8vl2LW3A",
        "outputId": "20f4ab93-7181-4b63-d3cf-b9d017111fa1"
      },
      "execution_count": 85,
      "outputs": [
        {
          "output_type": "execute_result",
          "data": {
            "text/plain": [
              "11"
            ]
          },
          "metadata": {},
          "execution_count": 85
        }
      ]
    },
    {
      "cell_type": "code",
      "source": [
        "for i in data['data']:\n",
        "  print(f\"{i['name']}:{i['goods_price_range']}\")"
      ],
      "metadata": {
        "colab": {
          "base_uri": "https://localhost:8080/"
        },
        "id": "tWsSoKLULfjy",
        "outputId": "b9526e8a-44ae-4135-d260-84c15d0926e9"
      },
      "execution_count": 87,
      "outputs": [
        {
          "output_type": "stream",
          "name": "stdout",
          "text": [
            "凸頭 18650電池 可開發票 尖頭 鋰電池 充電電池 3000mAh 3.7v 高容量 手電筒 電風扇 Li-ion:{'min': 8, 'max': 24, 'ori_min': 8, 'ori_max': 24}\n",
            "18650充電電池 高容量 4000mAh 電池 鋰電池 充電電池 3.7V Li-ion 尖頭 凸頭 充電器 USB:{'min': 39, 'max': 119, 'ori_min': 39, 'ori_max': 119}\n",
            "三菱電機HC-BH023-S12   99新:{'min': 39000, 'max': 40950, 'ori_min': 39000, 'ori_max': 40950}\n",
            "【秀秀】三菱PLC模塊 QJ72LP25-25 全新:{'min': 33000, 'max': 33000, 'ori_min': 33000, 'ori_max': 33000}\n",
            "(辦公首選華碩I7商務桌機 獨家送微軟OFFICE)I7-11700時脈4.9G/16核心/16G/256G+1TB電腦:{'min': 25900, 'max': 29900, 'ori_min': 25900, 'ori_max': 29900}\n",
            "WD西部數據NAS硬盤12T服務器硬盤12t網絡硬盤紅盤Pro WD121KFBX:{'min': 50760, 'max': 50760, 'ori_min': 50760, 'ori_max': 50760}\n",
            "全新零刻 SEi8 i5-8279U 酷睿i5辦公電腦微型主機 Intel 辦公電腦 迷你電腦 小電腦 微電腦:{'min': 23692, 'max': 23692, 'ori_min': 23692, 'ori_max': 23692}\n",
            "【樂意創客官方店】《附發票》AI機械手臂 樹莓派 4B Raspberry 視覺識別 ArmPi-FPV (豪華版本):{'min': 22800, 'max': 22800, 'ori_min': 22800, 'ori_max': 22800}\n",
            "KINGHOPE KH-82膽機組合音響發燒hifi藍牙書架音箱功放CD/DVD套裝:{'min': 38280, 'max': 38280, 'ori_min': 38280, 'ori_max': 38280}\n",
            "【24H出貨】(公司貨) iMICE X7 電競滑鼠 2400DPI 呼吸燈 電腦滑鼠 光學滑鼠 有線滑鼠 競技滑鼠:{'min': 155, 'max': 155, 'ori_min': 155, 'ori_max': 155}\n",
            "Renova Zero Pod 煙彈 空煙彈 空倉 空夾 空彈:{'min': 199, 'max': 230, 'ori_min': 199, 'ori_max': 230}\n"
          ]
        }
      ]
    },
    {
      "cell_type": "code",
      "source": [],
      "metadata": {
        "id": "GKpmcJv3LirT"
      },
      "execution_count": null,
      "outputs": []
    }
  ]
}
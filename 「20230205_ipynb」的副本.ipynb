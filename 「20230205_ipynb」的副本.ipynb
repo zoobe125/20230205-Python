{
  "nbformat": 4,
  "nbformat_minor": 0,
  "metadata": {
    "colab": {
      "provenance": [],
      "collapsed_sections": [
        "otKP-CaD9xAl"
      ],
      "toc_visible": true,
      "authorship_tag": "ABX9TyNBf9AmuroPMilKRmYVdw5c",
      "include_colab_link": true
    },
    "kernelspec": {
      "name": "python3",
      "display_name": "Python 3"
    },
    "language_info": {
      "name": "python"
    }
  },
  "cells": [
    {
      "cell_type": "markdown",
      "metadata": {
        "id": "view-in-github",
        "colab_type": "text"
      },
      "source": [
        "<a href=\"https://colab.research.google.com/github/zoobe125/20230211-Python/blob/main/%E3%80%8C20230205_ipynb%E3%80%8D%E7%9A%84%E5%89%AF%E6%9C%AC.ipynb\" target=\"_parent\"><img src=\"https://colab.research.google.com/assets/colab-badge.svg\" alt=\"Open In Colab\"/></a>"
      ]
    },
    {
      "cell_type": "markdown",
      "source": [
        "# 20230205"
      ],
      "metadata": {
        "id": "I-XuX0nKuUee"
      }
    },
    {
      "cell_type": "markdown",
      "source": [
        "Markdown語法說明\n",
        "最大標題\n",
        "次大標題\n",
        "次次大標題"
      ],
      "metadata": {
        "id": "6A7Yi6eihMRV"
      }
    },
    {
      "cell_type": "markdown",
      "source": [
        "〔維客學院〕https://khpy.teachable.com/p/simple-python-applications"
      ],
      "metadata": {
        "id": "TJethsyBiI26"
      }
    },
    {
      "cell_type": "markdown",
      "source": [],
      "metadata": {
        "id": "hSeeOIzWiIpJ"
      }
    },
    {
      "cell_type": "markdown",
      "source": [
        "## 變數"
      ],
      "metadata": {
        "id": "udjrbo0K-gD8"
      }
    },
    {
      "cell_type": "code",
      "source": [
        "x = 1"
      ],
      "metadata": {
        "id": "EkC0BJ3q-fMd"
      },
      "execution_count": null,
      "outputs": []
    },
    {
      "cell_type": "code",
      "source": [
        "id(x)"
      ],
      "metadata": {
        "colab": {
          "base_uri": "https://localhost:8080/"
        },
        "id": "VDiUbF25-5ae",
        "outputId": "d3421aff-f00e-4b79-b478-684ef2769ab0"
      },
      "execution_count": null,
      "outputs": [
        {
          "output_type": "execute_result",
          "data": {
            "text/plain": [
              "9793088"
            ]
          },
          "metadata": {},
          "execution_count": 4
        }
      ]
    },
    {
      "cell_type": "markdown",
      "source": [
        "什麼是id?"
      ],
      "metadata": {
        "id": "d7i6n6YOCyaZ"
      }
    },
    {
      "cell_type": "code",
      "source": [
        "id?"
      ],
      "metadata": {
        "id": "C5wkHyET-8BB"
      },
      "execution_count": null,
      "outputs": []
    },
    {
      "cell_type": "code",
      "source": [
        "type(x)"
      ],
      "metadata": {
        "colab": {
          "base_uri": "https://localhost:8080/"
        },
        "id": "ryfKY-OZ_HjP",
        "outputId": "81b5d358-12df-486a-a630-ecf62421fe88"
      },
      "execution_count": null,
      "outputs": [
        {
          "output_type": "execute_result",
          "data": {
            "text/plain": [
              "int"
            ]
          },
          "metadata": {},
          "execution_count": 6
        }
      ]
    },
    {
      "cell_type": "code",
      "source": [
        "y"
      ],
      "metadata": {
        "colab": {
          "base_uri": "https://localhost:8080/",
          "height": 201
        },
        "id": "_MxtJBe6_bif",
        "outputId": "2c0850c4-216e-4e3a-cc16-bc37ccb70511"
      },
      "execution_count": null,
      "outputs": [
        {
          "output_type": "error",
          "ename": "NameError",
          "evalue": "ignored",
          "traceback": [
            "\u001b[0;31m---------------------------------------------------------------------------\u001b[0m",
            "\u001b[0;31mNameError\u001b[0m                                 Traceback (most recent call last)",
            "\u001b[0;32m<ipython-input-7-9063a9f0e032>\u001b[0m in \u001b[0;36m<module>\u001b[0;34m\u001b[0m\n\u001b[0;32m----> 1\u001b[0;31m \u001b[0my\u001b[0m\u001b[0;34m\u001b[0m\u001b[0;34m\u001b[0m\u001b[0m\n\u001b[0m",
            "\u001b[0;31mNameError\u001b[0m: name 'y' is not defined"
          ]
        }
      ]
    },
    {
      "cell_type": "code",
      "source": [
        "X"
      ],
      "metadata": {
        "colab": {
          "base_uri": "https://localhost:8080/"
        },
        "id": "edroMN6eAWds",
        "outputId": "d1a627b6-bdd2-47f0-f736-0dc968341aae"
      },
      "execution_count": null,
      "outputs": [
        {
          "output_type": "execute_result",
          "data": {
            "text/plain": [
              "1"
            ]
          },
          "metadata": {},
          "execution_count": 11
        }
      ]
    },
    {
      "cell_type": "code",
      "source": [
        "x"
      ],
      "metadata": {
        "colab": {
          "base_uri": "https://localhost:8080/"
        },
        "id": "__NcugEZAcCd",
        "outputId": "725ba7c1-341d-46d2-e9bc-a5e19d935a98"
      },
      "execution_count": null,
      "outputs": [
        {
          "output_type": "execute_result",
          "data": {
            "text/plain": [
              "1"
            ]
          },
          "metadata": {},
          "execution_count": 12
        }
      ]
    },
    {
      "cell_type": "code",
      "source": [
        "abc = 1"
      ],
      "metadata": {
        "id": "S1fK2a0aAiHl"
      },
      "execution_count": null,
      "outputs": []
    },
    {
      "cell_type": "code",
      "source": [
        "_abc = 1"
      ],
      "metadata": {
        "id": "P6SaexbQA9Fn"
      },
      "execution_count": null,
      "outputs": []
    },
    {
      "cell_type": "markdown",
      "source": [],
      "metadata": {
        "id": "JCP4ZryHBpf8"
      }
    },
    {
      "cell_type": "markdown",
      "source": [
        "變數開頭不能為\"-\""
      ],
      "metadata": {
        "id": "6k78NxiJBm5i"
      }
    },
    {
      "cell_type": "code",
      "source": [
        "-abc = 1"
      ],
      "metadata": {
        "colab": {
          "base_uri": "https://localhost:8080/",
          "height": 131
        },
        "id": "znwLd7J_BCoW",
        "outputId": "44fab7dc-aed6-4966-cae5-98b1c1cb4120"
      },
      "execution_count": null,
      "outputs": [
        {
          "output_type": "error",
          "ename": "SyntaxError",
          "evalue": "ignored",
          "traceback": [
            "\u001b[0;36m  File \u001b[0;32m\"<ipython-input-15-809d2ccc2e8e>\"\u001b[0;36m, line \u001b[0;32m1\u001b[0m\n\u001b[0;31m    -abc = 1\u001b[0m\n\u001b[0m    ^\u001b[0m\n\u001b[0;31mSyntaxError\u001b[0m\u001b[0;31m:\u001b[0m cannot assign to operator\n"
          ]
        }
      ]
    },
    {
      "cell_type": "code",
      "source": [
        "_2abc = 1"
      ],
      "metadata": {
        "id": "wYqQvsQmBFe9"
      },
      "execution_count": null,
      "outputs": []
    },
    {
      "cell_type": "markdown",
      "source": [
        "變數開頭不能為數字"
      ],
      "metadata": {
        "id": "Z-9PeavHBeBG"
      }
    },
    {
      "cell_type": "code",
      "source": [
        "2abc = 1"
      ],
      "metadata": {
        "colab": {
          "base_uri": "https://localhost:8080/",
          "height": 131
        },
        "id": "EftdgqfsBQz6",
        "outputId": "f37d9e56-353f-47cf-b1bf-64ebb373cf85"
      },
      "execution_count": null,
      "outputs": [
        {
          "output_type": "error",
          "ename": "SyntaxError",
          "evalue": "ignored",
          "traceback": [
            "\u001b[0;36m  File \u001b[0;32m\"<ipython-input-17-2d7800037141>\"\u001b[0;36m, line \u001b[0;32m1\u001b[0m\n\u001b[0;31m    2abc = 1\u001b[0m\n\u001b[0m     ^\u001b[0m\n\u001b[0;31mSyntaxError\u001b[0m\u001b[0;31m:\u001b[0m invalid syntax\n"
          ]
        }
      ]
    },
    {
      "cell_type": "code",
      "source": [],
      "metadata": {
        "id": "YVa994m_BVRX"
      },
      "execution_count": null,
      "outputs": []
    },
    {
      "cell_type": "code",
      "source": [],
      "metadata": {
        "id": "TfeRi6Ee_Fc-"
      },
      "execution_count": null,
      "outputs": []
    },
    {
      "cell_type": "markdown",
      "source": [
        "## 基本資料型態：\n",
        "*   int （整數）\n",
        "*   float （浮點數）\n",
        "*   bool （布林變數）\n",
        "*   str (字串)"
      ],
      "metadata": {
        "id": "otKP-CaD9xAl"
      }
    },
    {
      "cell_type": "code",
      "source": [
        "x = 1"
      ],
      "metadata": {
        "id": "PXnHg2w8uTyn"
      },
      "execution_count": null,
      "outputs": []
    },
    {
      "cell_type": "code",
      "source": [
        "type(x)"
      ],
      "metadata": {
        "colab": {
          "base_uri": "https://localhost:8080/"
        },
        "id": "cz862zSrClyH",
        "outputId": "e24b32b1-6e06-49d2-a379-2028bb55a813"
      },
      "execution_count": null,
      "outputs": [
        {
          "output_type": "execute_result",
          "data": {
            "text/plain": [
              "int"
            ]
          },
          "metadata": {},
          "execution_count": 27
        }
      ]
    },
    {
      "cell_type": "code",
      "source": [
        "y = 1.0"
      ],
      "metadata": {
        "id": "4v8MeCcjCEFS"
      },
      "execution_count": null,
      "outputs": []
    },
    {
      "cell_type": "code",
      "source": [
        "type(y)"
      ],
      "metadata": {
        "colab": {
          "base_uri": "https://localhost:8080/"
        },
        "id": "tzWze78SCHRw",
        "outputId": "0908b280-ac33-48c1-bc2c-5afa8cbdf653"
      },
      "execution_count": null,
      "outputs": [
        {
          "output_type": "execute_result",
          "data": {
            "text/plain": [
              "float"
            ]
          },
          "metadata": {},
          "execution_count": 20
        }
      ]
    },
    {
      "cell_type": "code",
      "source": [
        "3>2"
      ],
      "metadata": {
        "colab": {
          "base_uri": "https://localhost:8080/"
        },
        "id": "eva-07qzCMVk",
        "outputId": "d360ada9-4165-4bdf-f32b-481661184ff2"
      },
      "execution_count": null,
      "outputs": [
        {
          "output_type": "execute_result",
          "data": {
            "text/plain": [
              "True"
            ]
          },
          "metadata": {},
          "execution_count": 21
        }
      ]
    },
    {
      "cell_type": "code",
      "source": [
        "3<2"
      ],
      "metadata": {
        "colab": {
          "base_uri": "https://localhost:8080/"
        },
        "id": "d8UZau3TCOh6",
        "outputId": "b6d66460-e175-4091-bf3d-fcd51d5723df"
      },
      "execution_count": null,
      "outputs": [
        {
          "output_type": "execute_result",
          "data": {
            "text/plain": [
              "False"
            ]
          },
          "metadata": {},
          "execution_count": 22
        }
      ]
    },
    {
      "cell_type": "code",
      "source": [
        "z = 3>2"
      ],
      "metadata": {
        "id": "8rUtBJDlCRPg"
      },
      "execution_count": null,
      "outputs": []
    },
    {
      "cell_type": "code",
      "source": [
        "z"
      ],
      "metadata": {
        "colab": {
          "base_uri": "https://localhost:8080/"
        },
        "id": "O2rH81GGCXAi",
        "outputId": "31730953-0f24-43b5-eebe-d98da63bef19"
      },
      "execution_count": null,
      "outputs": [
        {
          "output_type": "execute_result",
          "data": {
            "text/plain": [
              "True"
            ]
          },
          "metadata": {},
          "execution_count": 24
        }
      ]
    },
    {
      "cell_type": "code",
      "source": [
        "type(z)"
      ],
      "metadata": {
        "colab": {
          "base_uri": "https://localhost:8080/"
        },
        "id": "RIPHN25MCbdx",
        "outputId": "86fd6cdf-3cc9-40ea-ea5a-e10e9bf64140"
      },
      "execution_count": null,
      "outputs": [
        {
          "output_type": "execute_result",
          "data": {
            "text/plain": [
              "bool"
            ]
          },
          "metadata": {},
          "execution_count": 25
        }
      ]
    },
    {
      "cell_type": "code",
      "source": [
        "w = dog"
      ],
      "metadata": {
        "colab": {
          "base_uri": "https://localhost:8080/",
          "height": 201
        },
        "id": "cuPzrXTkCgl3",
        "outputId": "12dc6008-1060-4843-e275-917bbdfa4f0e"
      },
      "execution_count": null,
      "outputs": [
        {
          "output_type": "error",
          "ename": "NameError",
          "evalue": "ignored",
          "traceback": [
            "\u001b[0;31m---------------------------------------------------------------------------\u001b[0m",
            "\u001b[0;31mNameError\u001b[0m                                 Traceback (most recent call last)",
            "\u001b[0;32m<ipython-input-28-33986da45536>\u001b[0m in \u001b[0;36m<module>\u001b[0;34m\u001b[0m\n\u001b[0;32m----> 1\u001b[0;31m \u001b[0mw\u001b[0m \u001b[0;34m=\u001b[0m \u001b[0mdog\u001b[0m\u001b[0;34m\u001b[0m\u001b[0;34m\u001b[0m\u001b[0m\n\u001b[0m",
            "\u001b[0;31mNameError\u001b[0m: name 'dog' is not defined"
          ]
        }
      ]
    },
    {
      "cell_type": "code",
      "source": [
        "w = \"dog\""
      ],
      "metadata": {
        "id": "yvFH87-cDNpT"
      },
      "execution_count": null,
      "outputs": []
    },
    {
      "cell_type": "code",
      "source": [
        "type(w)"
      ],
      "metadata": {
        "colab": {
          "base_uri": "https://localhost:8080/"
        },
        "id": "d1Je_P-UDh40",
        "outputId": "2ed14f02-2c6a-4678-ea3f-22950a2c5d4f"
      },
      "execution_count": null,
      "outputs": [
        {
          "output_type": "execute_result",
          "data": {
            "text/plain": [
              "str"
            ]
          },
          "metadata": {},
          "execution_count": 30
        }
      ]
    },
    {
      "cell_type": "markdown",
      "source": [
        "## Line Notify應用"
      ],
      "metadata": {
        "id": "w1HrSdZRD-L4"
      }
    },
    {
      "cell_type": "markdown",
      "source": [
        "使用Line Notify傳送訊息給自己"
      ],
      "metadata": {
        "id": "siGBMt5lD6pH"
      }
    },
    {
      "cell_type": "code",
      "source": [
        "# 從Github裡面，將linenotify.py下載到colab裡面來"
      ],
      "metadata": {
        "id": "AUCrNo_yFQHG"
      },
      "execution_count": null,
      "outputs": []
    },
    {
      "cell_type": "code",
      "source": [
        "!wget https://raw.githubusercontent.com/victorgau/khpy_linenotify_intro/main/py/linenotify.py"
      ],
      "metadata": {
        "colab": {
          "base_uri": "https://localhost:8080/"
        },
        "id": "akC5y4V3DmCK",
        "outputId": "3cf138f7-bb2d-44e1-83ab-e3d9febd25b3"
      },
      "execution_count": null,
      "outputs": [
        {
          "output_type": "stream",
          "name": "stdout",
          "text": [
            "--2023-02-05 06:15:18--  https://raw.githubusercontent.com/victorgau/khpy_linenotify_intro/main/py/linenotify.py\n",
            "Resolving raw.githubusercontent.com (raw.githubusercontent.com)... 185.199.108.133, 185.199.109.133, 185.199.110.133, ...\n",
            "Connecting to raw.githubusercontent.com (raw.githubusercontent.com)|185.199.108.133|:443... connected.\n",
            "HTTP request sent, awaiting response... 200 OK\n",
            "Length: 818 [text/plain]\n",
            "Saving to: ‘linenotify.py’\n",
            "\n",
            "linenotify.py       100%[===================>]     818  --.-KB/s    in 0s      \n",
            "\n",
            "2023-02-05 06:15:18 (28.3 MB/s) - ‘linenotify.py’ saved [818/818]\n",
            "\n"
          ]
        }
      ]
    },
    {
      "cell_type": "code",
      "source": [
        "from linenotify import Notify"
      ],
      "metadata": {
        "id": "oAZArYT4GcvS"
      },
      "execution_count": null,
      "outputs": []
    },
    {
      "cell_type": "code",
      "source": [
        "#到https://notify-bot.line.me/zh_TW/申請 token\n",
        "# token = \"貼上Line notify所產token連結\""
      ],
      "metadata": {
        "id": "4hVFxs1JGzc_"
      },
      "execution_count": null,
      "outputs": []
    },
    {
      "cell_type": "code",
      "source": [
        "# 傳送文字訊息\n",
        "Notify(token,\"元宵節快樂！\")\n"
      ],
      "metadata": {
        "id": "c8TpNwsyI7IY",
        "colab": {
          "base_uri": "https://localhost:8080/",
          "height": 184
        },
        "outputId": "2501b755-f9ae-4e6f-d921-ca05294f0e9f"
      },
      "execution_count": null,
      "outputs": [
        {
          "output_type": "error",
          "ename": "NameError",
          "evalue": "ignored",
          "traceback": [
            "\u001b[0;31m---------------------------------------------------------------------------\u001b[0m",
            "\u001b[0;31mNameError\u001b[0m                                 Traceback (most recent call last)",
            "\u001b[0;32m<ipython-input-39-7faac3856a09>\u001b[0m in \u001b[0;36m<module>\u001b[0;34m\u001b[0m\n\u001b[1;32m      1\u001b[0m \u001b[0;31m# 傳送文字訊息\u001b[0m\u001b[0;34m\u001b[0m\u001b[0;34m\u001b[0m\u001b[0;34m\u001b[0m\u001b[0m\n\u001b[0;32m----> 2\u001b[0;31m \u001b[0mNotify\u001b[0m\u001b[0;34m(\u001b[0m\u001b[0mtoken\u001b[0m\u001b[0;34m,\u001b[0m\u001b[0;34m\"元宵節快樂！\"\u001b[0m\u001b[0;34m)\u001b[0m\u001b[0;34m\u001b[0m\u001b[0;34m\u001b[0m\u001b[0m\n\u001b[0m",
            "\u001b[0;31mNameError\u001b[0m: name 'token' is not defined"
          ]
        }
      ]
    },
    {
      "cell_type": "code",
      "source": [
        "#傳送貼紙/圖片\n",
        "#網址\n",
        "#nofity(token, \"文字\",1,位置,\"檔名\")"
      ],
      "metadata": {
        "id": "g5bYWBGOJO07"
      },
      "execution_count": null,
      "outputs": []
    },
    {
      "cell_type": "code",
      "source": [
        "#群組token\n",
        "#group_token = ＂貼上Copy連結＂\n",
        "# 注意：Line群組內需加入Line Notify \n",
        "#Line Notify Help\n",
        "#Line Notification API Document\n",
        "#Notify(group_token,\"字串\",1,位置,\"檔名\")\n",
        "# r = Notify(group_token,\"字串\",1,位置,\"檔名\")\n",
        "# r.headers"
      ],
      "metadata": {
        "id": "rOfbqe2HQXHw"
      },
      "execution_count": null,
      "outputs": []
    },
    {
      "cell_type": "code",
      "source": [],
      "metadata": {
        "id": "COgV1xCLbAEJ"
      },
      "execution_count": null,
      "outputs": []
    },
    {
      "cell_type": "markdown",
      "source": [
        "## 基本容器型別\n",
        "\n",
        "*   List\n",
        "    Indexing 索引\n",
        "    Slicing 切面\n",
        "*   Turple 原掛號\n",
        "*   Dict 字典 （Key, values)\n",
        "*   Set 集合\n",
        "\n",
        "\n",
        "\n",
        "\n",
        "\n",
        "\n"
      ],
      "metadata": {
        "id": "HHqcZMhrVWBY"
      }
    },
    {
      "cell_type": "markdown",
      "source": [
        "### 實際範例\n",
        "從Jason格式字串擷取\n",
        "可利用ChatGpt\n",
        "# data = json.loads(s)"
      ],
      "metadata": {
        "id": "jAInYLiCkxx9"
      }
    },
    {
      "cell_type": "code",
      "source": [],
      "metadata": {
        "id": "_ppaSovXVonF"
      },
      "execution_count": null,
      "outputs": []
    }
  ]
}